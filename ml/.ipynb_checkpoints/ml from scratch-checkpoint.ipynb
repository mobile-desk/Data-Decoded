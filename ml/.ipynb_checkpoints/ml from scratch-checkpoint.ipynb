{
 "cells": [
  {
   "cell_type": "code",
   "execution_count": 3,
   "id": "1588f1e0-c703-4785-b947-7825e17b6351",
   "metadata": {},
   "outputs": [],
   "source": [
    "import numpy as np"
   ]
  },
  {
   "cell_type": "code",
   "execution_count": 1,
   "id": "8f9ab9ae-0b5a-4a3b-9c76-ce323d33ced8",
   "metadata": {},
   "outputs": [],
   "source": [
    "class LinearRegression:\n",
    "    def __init__(self, lr = 0.001, n_iters=1000):\n",
    "        self.lr = lr # how fast the model learns from the data \n",
    "        self.n_iters = n_iters # no of loops needed to learn from the data \n",
    "        self.weights = None # Weights: Think of the weights as how much attention the model gives to each piece of information in the data.\n",
    "        self.bias = None # The bias term is like a baseline assumption the model starts with\n",
    "\n",
    "    def fit(self, X, y):\n",
    "        n_samples, n_features = X.shape\n",
    "        self.weights = np.zeros(n_features) \n",
    "        self.bias = 0\n",
    "\n",
    "        for _ in range(self.n_iters):\n",
    "            y_pred = np.dot(X, self.weights) + self.bias # Performs matrix multiplication on X and self.weights\n",
    "\n",
    "\n",
    "            # Gradient: The gradient of a function measures the rate of change of the function's value with respect to its parameters.\n",
    "            dw = (1/n_samples) * np.dot(X.T, (y_pred-y))\n",
    "            db = (1/n_samples) * np.sum(y_pred-y)\n",
    "\n",
    "            self.weights = self.weights - self.lr * dw\n",
    "            self.bias = self.bias - self.lr * db\n",
    "\n",
    "    def predict(self, X):\n",
    "        y_pred = np.dot(X, self.weights) + self.bias\n",
    "        return y_pred\n",
    "        "
   ]
  },
  {
   "cell_type": "code",
   "execution_count": 12,
   "id": "933a9507-771b-4ac9-be6e-ed7e5f49f5f5",
   "metadata": {},
   "outputs": [],
   "source": [
    "X = np.array([[1, 1], [1, 2], [1, 3]])\n",
    "y = np.array([2, 3, 4])"
   ]
  },
  {
   "cell_type": "code",
   "execution_count": 13,
   "id": "cad10219-67cf-435c-9920-13f16c886f68",
   "metadata": {},
   "outputs": [
    {
     "data": {
      "text/plain": [
       "array([[1, 1],\n",
       "       [1, 2],\n",
       "       [1, 3]])"
      ]
     },
     "execution_count": 13,
     "metadata": {},
     "output_type": "execute_result"
    }
   ],
   "source": [
    "X"
   ]
  },
  {
   "cell_type": "code",
   "execution_count": 14,
   "id": "e7ed6846-6e87-44b4-8046-ffda80000174",
   "metadata": {},
   "outputs": [
    {
     "data": {
      "text/plain": [
       "array([[1],\n",
       "       [2],\n",
       "       [3]])"
      ]
     },
     "execution_count": 14,
     "metadata": {},
     "output_type": "execute_result"
    }
   ],
   "source": [
    "X[:, 1:]"
   ]
  },
  {
   "cell_type": "code",
   "execution_count": 29,
   "id": "433578fb-9dc8-4975-b798-5e8dd156241a",
   "metadata": {},
   "outputs": [],
   "source": [
    "model = LinearRegression(lr=0.01, n_iters=1000)# higher iter bettewr"
   ]
  },
  {
   "cell_type": "code",
   "execution_count": 23,
   "id": "77b9ba8a-3329-4d14-85cf-3afba262b253",
   "metadata": {},
   "outputs": [],
   "source": [
    "model.fit(X, y)"
   ]
  },
  {
   "cell_type": "code",
   "execution_count": 27,
   "id": "ab98d4d1-d46f-4ceb-97f2-83a414789498",
   "metadata": {},
   "outputs": [],
   "source": [
    "y_pred = model.predict(X)"
   ]
  },
  {
   "cell_type": "code",
   "execution_count": 28,
   "id": "551be79e-6e74-4418-8f7c-c6f264137a26",
   "metadata": {},
   "outputs": [
    {
     "data": {
      "text/plain": [
       "array([1.99485687, 2.99903781, 4.00321874])"
      ]
     },
     "execution_count": 28,
     "metadata": {},
     "output_type": "execute_result"
    }
   ],
   "source": [
    "y_pred"
   ]
  },
  {
   "cell_type": "code",
   "execution_count": null,
   "id": "d6f67f64-0eb1-478f-9f21-a51b49918e87",
   "metadata": {},
   "outputs": [],
   "source": []
  }
 ],
 "metadata": {
  "kernelspec": {
   "display_name": "Python 3 (ipykernel)",
   "language": "python",
   "name": "python3"
  },
  "language_info": {
   "codemirror_mode": {
    "name": "ipython",
    "version": 3
   },
   "file_extension": ".py",
   "mimetype": "text/x-python",
   "name": "python",
   "nbconvert_exporter": "python",
   "pygments_lexer": "ipython3",
   "version": "3.11.7"
  }
 },
 "nbformat": 4,
 "nbformat_minor": 5
}
