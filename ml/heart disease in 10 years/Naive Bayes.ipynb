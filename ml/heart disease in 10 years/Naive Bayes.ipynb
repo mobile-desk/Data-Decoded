{
 "cells": [
  {
   "cell_type": "markdown",
   "id": "6f99b7b0-d828-447f-8cb2-199d5208e79e",
   "metadata": {},
   "source": [
    "# Import"
   ]
  },
  {
   "cell_type": "code",
   "execution_count": 38,
   "id": "9468e2e7-82f4-4c58-a498-d0ca1957c388",
   "metadata": {},
   "outputs": [],
   "source": [
    "import pandas as pd\n",
    "import seaborn as sns\n",
    "import matplotlib.pyplot as plt\n",
    "from sklearn.naive_bayes import GaussianNB\n",
    "from sklearn.model_selection import train_test_split\n",
    "from sklearn.metrics import classification_report, confusion_matrix\n",
    "from sklearn.preprocessing import LabelEncoder, OneHotEncoder, StandardScaler"
   ]
  },
  {
   "cell_type": "markdown",
   "id": "705ec349-8b3c-4bcf-8f42-54d3bb1b9f89",
   "metadata": {
    "jp-MarkdownHeadingCollapsed": true
   },
   "source": [
    "# Load Dataset"
   ]
  },
  {
   "cell_type": "code",
   "execution_count": 12,
   "id": "8fc93fb1-9711-4096-8b3f-c8ce1dc5ceca",
   "metadata": {},
   "outputs": [
    {
     "data": {
      "text/html": [
       "<div>\n",
       "<style scoped>\n",
       "    .dataframe tbody tr th:only-of-type {\n",
       "        vertical-align: middle;\n",
       "    }\n",
       "\n",
       "    .dataframe tbody tr th {\n",
       "        vertical-align: top;\n",
       "    }\n",
       "\n",
       "    .dataframe thead th {\n",
       "        text-align: right;\n",
       "    }\n",
       "</style>\n",
       "<table border=\"1\" class=\"dataframe\">\n",
       "  <thead>\n",
       "    <tr style=\"text-align: right;\">\n",
       "      <th></th>\n",
       "      <th>male</th>\n",
       "      <th>age</th>\n",
       "      <th>education</th>\n",
       "      <th>currentSmoker</th>\n",
       "      <th>cigsPerDay</th>\n",
       "      <th>BPMeds</th>\n",
       "      <th>prevalentStroke</th>\n",
       "      <th>prevalentHyp</th>\n",
       "      <th>diabetes</th>\n",
       "      <th>totChol</th>\n",
       "      <th>sysBP</th>\n",
       "      <th>diaBP</th>\n",
       "      <th>BMI</th>\n",
       "      <th>heartRate</th>\n",
       "      <th>glucose</th>\n",
       "      <th>TenYearCHD</th>\n",
       "    </tr>\n",
       "  </thead>\n",
       "  <tbody>\n",
       "    <tr>\n",
       "      <th>0</th>\n",
       "      <td>1</td>\n",
       "      <td>39</td>\n",
       "      <td>4.0</td>\n",
       "      <td>0</td>\n",
       "      <td>0.0</td>\n",
       "      <td>0.0</td>\n",
       "      <td>0</td>\n",
       "      <td>0</td>\n",
       "      <td>0</td>\n",
       "      <td>195.0</td>\n",
       "      <td>106.0</td>\n",
       "      <td>70.0</td>\n",
       "      <td>26.97</td>\n",
       "      <td>80.0</td>\n",
       "      <td>77.0</td>\n",
       "      <td>0</td>\n",
       "    </tr>\n",
       "    <tr>\n",
       "      <th>1</th>\n",
       "      <td>0</td>\n",
       "      <td>46</td>\n",
       "      <td>2.0</td>\n",
       "      <td>0</td>\n",
       "      <td>0.0</td>\n",
       "      <td>0.0</td>\n",
       "      <td>0</td>\n",
       "      <td>0</td>\n",
       "      <td>0</td>\n",
       "      <td>250.0</td>\n",
       "      <td>121.0</td>\n",
       "      <td>81.0</td>\n",
       "      <td>28.73</td>\n",
       "      <td>95.0</td>\n",
       "      <td>76.0</td>\n",
       "      <td>0</td>\n",
       "    </tr>\n",
       "    <tr>\n",
       "      <th>2</th>\n",
       "      <td>1</td>\n",
       "      <td>48</td>\n",
       "      <td>1.0</td>\n",
       "      <td>1</td>\n",
       "      <td>20.0</td>\n",
       "      <td>0.0</td>\n",
       "      <td>0</td>\n",
       "      <td>0</td>\n",
       "      <td>0</td>\n",
       "      <td>245.0</td>\n",
       "      <td>127.5</td>\n",
       "      <td>80.0</td>\n",
       "      <td>25.34</td>\n",
       "      <td>75.0</td>\n",
       "      <td>70.0</td>\n",
       "      <td>0</td>\n",
       "    </tr>\n",
       "    <tr>\n",
       "      <th>3</th>\n",
       "      <td>0</td>\n",
       "      <td>61</td>\n",
       "      <td>3.0</td>\n",
       "      <td>1</td>\n",
       "      <td>30.0</td>\n",
       "      <td>0.0</td>\n",
       "      <td>0</td>\n",
       "      <td>1</td>\n",
       "      <td>0</td>\n",
       "      <td>225.0</td>\n",
       "      <td>150.0</td>\n",
       "      <td>95.0</td>\n",
       "      <td>28.58</td>\n",
       "      <td>65.0</td>\n",
       "      <td>103.0</td>\n",
       "      <td>1</td>\n",
       "    </tr>\n",
       "    <tr>\n",
       "      <th>4</th>\n",
       "      <td>0</td>\n",
       "      <td>46</td>\n",
       "      <td>3.0</td>\n",
       "      <td>1</td>\n",
       "      <td>23.0</td>\n",
       "      <td>0.0</td>\n",
       "      <td>0</td>\n",
       "      <td>0</td>\n",
       "      <td>0</td>\n",
       "      <td>285.0</td>\n",
       "      <td>130.0</td>\n",
       "      <td>84.0</td>\n",
       "      <td>23.10</td>\n",
       "      <td>85.0</td>\n",
       "      <td>85.0</td>\n",
       "      <td>0</td>\n",
       "    </tr>\n",
       "    <tr>\n",
       "      <th>...</th>\n",
       "      <td>...</td>\n",
       "      <td>...</td>\n",
       "      <td>...</td>\n",
       "      <td>...</td>\n",
       "      <td>...</td>\n",
       "      <td>...</td>\n",
       "      <td>...</td>\n",
       "      <td>...</td>\n",
       "      <td>...</td>\n",
       "      <td>...</td>\n",
       "      <td>...</td>\n",
       "      <td>...</td>\n",
       "      <td>...</td>\n",
       "      <td>...</td>\n",
       "      <td>...</td>\n",
       "      <td>...</td>\n",
       "    </tr>\n",
       "    <tr>\n",
       "      <th>4233</th>\n",
       "      <td>1</td>\n",
       "      <td>50</td>\n",
       "      <td>1.0</td>\n",
       "      <td>1</td>\n",
       "      <td>1.0</td>\n",
       "      <td>0.0</td>\n",
       "      <td>0</td>\n",
       "      <td>1</td>\n",
       "      <td>0</td>\n",
       "      <td>313.0</td>\n",
       "      <td>179.0</td>\n",
       "      <td>92.0</td>\n",
       "      <td>25.97</td>\n",
       "      <td>66.0</td>\n",
       "      <td>86.0</td>\n",
       "      <td>1</td>\n",
       "    </tr>\n",
       "    <tr>\n",
       "      <th>4234</th>\n",
       "      <td>1</td>\n",
       "      <td>51</td>\n",
       "      <td>3.0</td>\n",
       "      <td>1</td>\n",
       "      <td>43.0</td>\n",
       "      <td>0.0</td>\n",
       "      <td>0</td>\n",
       "      <td>0</td>\n",
       "      <td>0</td>\n",
       "      <td>207.0</td>\n",
       "      <td>126.5</td>\n",
       "      <td>80.0</td>\n",
       "      <td>19.71</td>\n",
       "      <td>65.0</td>\n",
       "      <td>68.0</td>\n",
       "      <td>0</td>\n",
       "    </tr>\n",
       "    <tr>\n",
       "      <th>4235</th>\n",
       "      <td>0</td>\n",
       "      <td>48</td>\n",
       "      <td>2.0</td>\n",
       "      <td>1</td>\n",
       "      <td>20.0</td>\n",
       "      <td>NaN</td>\n",
       "      <td>0</td>\n",
       "      <td>0</td>\n",
       "      <td>0</td>\n",
       "      <td>248.0</td>\n",
       "      <td>131.0</td>\n",
       "      <td>72.0</td>\n",
       "      <td>22.00</td>\n",
       "      <td>84.0</td>\n",
       "      <td>86.0</td>\n",
       "      <td>0</td>\n",
       "    </tr>\n",
       "    <tr>\n",
       "      <th>4236</th>\n",
       "      <td>0</td>\n",
       "      <td>44</td>\n",
       "      <td>1.0</td>\n",
       "      <td>1</td>\n",
       "      <td>15.0</td>\n",
       "      <td>0.0</td>\n",
       "      <td>0</td>\n",
       "      <td>0</td>\n",
       "      <td>0</td>\n",
       "      <td>210.0</td>\n",
       "      <td>126.5</td>\n",
       "      <td>87.0</td>\n",
       "      <td>19.16</td>\n",
       "      <td>86.0</td>\n",
       "      <td>NaN</td>\n",
       "      <td>0</td>\n",
       "    </tr>\n",
       "    <tr>\n",
       "      <th>4237</th>\n",
       "      <td>0</td>\n",
       "      <td>52</td>\n",
       "      <td>2.0</td>\n",
       "      <td>0</td>\n",
       "      <td>0.0</td>\n",
       "      <td>0.0</td>\n",
       "      <td>0</td>\n",
       "      <td>0</td>\n",
       "      <td>0</td>\n",
       "      <td>269.0</td>\n",
       "      <td>133.5</td>\n",
       "      <td>83.0</td>\n",
       "      <td>21.47</td>\n",
       "      <td>80.0</td>\n",
       "      <td>107.0</td>\n",
       "      <td>0</td>\n",
       "    </tr>\n",
       "  </tbody>\n",
       "</table>\n",
       "<p>4238 rows × 16 columns</p>\n",
       "</div>"
      ],
      "text/plain": [
       "      male  age  education  currentSmoker  cigsPerDay  BPMeds  \\\n",
       "0        1   39        4.0              0         0.0     0.0   \n",
       "1        0   46        2.0              0         0.0     0.0   \n",
       "2        1   48        1.0              1        20.0     0.0   \n",
       "3        0   61        3.0              1        30.0     0.0   \n",
       "4        0   46        3.0              1        23.0     0.0   \n",
       "...    ...  ...        ...            ...         ...     ...   \n",
       "4233     1   50        1.0              1         1.0     0.0   \n",
       "4234     1   51        3.0              1        43.0     0.0   \n",
       "4235     0   48        2.0              1        20.0     NaN   \n",
       "4236     0   44        1.0              1        15.0     0.0   \n",
       "4237     0   52        2.0              0         0.0     0.0   \n",
       "\n",
       "      prevalentStroke  prevalentHyp  diabetes  totChol  sysBP  diaBP    BMI  \\\n",
       "0                   0             0         0    195.0  106.0   70.0  26.97   \n",
       "1                   0             0         0    250.0  121.0   81.0  28.73   \n",
       "2                   0             0         0    245.0  127.5   80.0  25.34   \n",
       "3                   0             1         0    225.0  150.0   95.0  28.58   \n",
       "4                   0             0         0    285.0  130.0   84.0  23.10   \n",
       "...               ...           ...       ...      ...    ...    ...    ...   \n",
       "4233                0             1         0    313.0  179.0   92.0  25.97   \n",
       "4234                0             0         0    207.0  126.5   80.0  19.71   \n",
       "4235                0             0         0    248.0  131.0   72.0  22.00   \n",
       "4236                0             0         0    210.0  126.5   87.0  19.16   \n",
       "4237                0             0         0    269.0  133.5   83.0  21.47   \n",
       "\n",
       "      heartRate  glucose  TenYearCHD  \n",
       "0          80.0     77.0           0  \n",
       "1          95.0     76.0           0  \n",
       "2          75.0     70.0           0  \n",
       "3          65.0    103.0           1  \n",
       "4          85.0     85.0           0  \n",
       "...         ...      ...         ...  \n",
       "4233       66.0     86.0           1  \n",
       "4234       65.0     68.0           0  \n",
       "4235       84.0     86.0           0  \n",
       "4236       86.0      NaN           0  \n",
       "4237       80.0    107.0           0  \n",
       "\n",
       "[4238 rows x 16 columns]"
      ]
     },
     "execution_count": 12,
     "metadata": {},
     "output_type": "execute_result"
    }
   ],
   "source": [
    "df = pd.read_csv('framingham_heart_disease.csv')\n",
    "df"
   ]
  },
  {
   "cell_type": "code",
   "execution_count": 14,
   "id": "6aad6af7-6754-4a9d-b932-70149d4e4043",
   "metadata": {},
   "outputs": [
    {
     "name": "stdout",
     "output_type": "stream",
     "text": [
      "<class 'pandas.core.frame.DataFrame'>\n",
      "RangeIndex: 4238 entries, 0 to 4237\n",
      "Data columns (total 16 columns):\n",
      " #   Column           Non-Null Count  Dtype  \n",
      "---  ------           --------------  -----  \n",
      " 0   male             4238 non-null   int64  \n",
      " 1   age              4238 non-null   int64  \n",
      " 2   education        4133 non-null   float64\n",
      " 3   currentSmoker    4238 non-null   int64  \n",
      " 4   cigsPerDay       4209 non-null   float64\n",
      " 5   BPMeds           4185 non-null   float64\n",
      " 6   prevalentStroke  4238 non-null   int64  \n",
      " 7   prevalentHyp     4238 non-null   int64  \n",
      " 8   diabetes         4238 non-null   int64  \n",
      " 9   totChol          4188 non-null   float64\n",
      " 10  sysBP            4238 non-null   float64\n",
      " 11  diaBP            4238 non-null   float64\n",
      " 12  BMI              4219 non-null   float64\n",
      " 13  heartRate        4237 non-null   float64\n",
      " 14  glucose          3850 non-null   float64\n",
      " 15  TenYearCHD       4238 non-null   int64  \n",
      "dtypes: float64(9), int64(7)\n",
      "memory usage: 529.9 KB\n"
     ]
    }
   ],
   "source": [
    "df.info()"
   ]
  },
  {
   "cell_type": "code",
   "execution_count": 15,
   "id": "02478dbd-7cd7-4bfd-8c57-f7aee067c5eb",
   "metadata": {},
   "outputs": [
    {
     "data": {
      "text/plain": [
       "(4238, 16)"
      ]
     },
     "execution_count": 15,
     "metadata": {},
     "output_type": "execute_result"
    }
   ],
   "source": [
    "df.shape"
   ]
  },
  {
   "cell_type": "code",
   "execution_count": 16,
   "id": "c90c5ed1-88a9-4cc6-9d3f-52330b26944f",
   "metadata": {},
   "outputs": [
    {
     "data": {
      "text/plain": [
       "male               0.000000\n",
       "age                0.000000\n",
       "education          2.477584\n",
       "currentSmoker      0.000000\n",
       "cigsPerDay         0.684285\n",
       "BPMeds             1.250590\n",
       "prevalentStroke    0.000000\n",
       "prevalentHyp       0.000000\n",
       "diabetes           0.000000\n",
       "totChol            1.179802\n",
       "sysBP              0.000000\n",
       "diaBP              0.000000\n",
       "BMI                0.448325\n",
       "heartRate          0.023596\n",
       "glucose            9.155262\n",
       "TenYearCHD         0.000000\n",
       "dtype: float64"
      ]
     },
     "execution_count": 16,
     "metadata": {},
     "output_type": "execute_result"
    }
   ],
   "source": [
    "\n",
    "# Get total percentages of null values to know if dropping the values would affect the dataset\n",
    "(df.isnull().sum()/4238)*100"
   ]
  },
  {
   "cell_type": "code",
   "execution_count": 17,
   "id": "8c8379fc-2deb-47bf-823e-b7d8a13bf006",
   "metadata": {},
   "outputs": [],
   "source": [
    "df.dropna(inplace=True)"
   ]
  },
  {
   "cell_type": "code",
   "execution_count": 18,
   "id": "9ee96aa7-5370-404e-8b0d-de5a113b6ebb",
   "metadata": {},
   "outputs": [],
   "source": [
    "X = df[['male', 'age', 'education', 'currentSmoker', 'cigsPerDay', 'BPMeds', 'prevalentStroke', 'prevalentHyp', 'diabetes', 'totChol', 'sysBP', 'diaBP', 'BMI', 'heartRate', 'glucose']]\n",
    "y = df['TenYearCHD']"
   ]
  },
  {
   "cell_type": "markdown",
   "id": "24a918f1-cd78-4269-bc0c-a3d735a1a781",
   "metadata": {
    "jp-MarkdownHeadingCollapsed": true
   },
   "source": [
    "# Check relationship btw values"
   ]
  },
  {
   "cell_type": "code",
   "execution_count": 4,
   "id": "69d9d984-c1d3-4be1-bbf1-570acf26c79f",
   "metadata": {},
   "outputs": [
    {
     "data": {
      "text/html": [
       "<div>\n",
       "<style scoped>\n",
       "    .dataframe tbody tr th:only-of-type {\n",
       "        vertical-align: middle;\n",
       "    }\n",
       "\n",
       "    .dataframe tbody tr th {\n",
       "        vertical-align: top;\n",
       "    }\n",
       "\n",
       "    .dataframe thead th {\n",
       "        text-align: right;\n",
       "    }\n",
       "</style>\n",
       "<table border=\"1\" class=\"dataframe\">\n",
       "  <thead>\n",
       "    <tr style=\"text-align: right;\">\n",
       "      <th></th>\n",
       "      <th>male</th>\n",
       "      <th>age</th>\n",
       "      <th>education</th>\n",
       "      <th>currentSmoker</th>\n",
       "      <th>cigsPerDay</th>\n",
       "      <th>BPMeds</th>\n",
       "      <th>prevalentStroke</th>\n",
       "      <th>prevalentHyp</th>\n",
       "      <th>diabetes</th>\n",
       "      <th>totChol</th>\n",
       "      <th>sysBP</th>\n",
       "      <th>diaBP</th>\n",
       "      <th>BMI</th>\n",
       "      <th>heartRate</th>\n",
       "      <th>glucose</th>\n",
       "      <th>TenYearCHD</th>\n",
       "    </tr>\n",
       "  </thead>\n",
       "  <tbody>\n",
       "    <tr>\n",
       "      <th>male</th>\n",
       "      <td>1.000000</td>\n",
       "      <td>-0.028979</td>\n",
       "      <td>0.017352</td>\n",
       "      <td>0.197596</td>\n",
       "      <td>0.317930</td>\n",
       "      <td>-0.052506</td>\n",
       "      <td>-0.004546</td>\n",
       "      <td>0.005313</td>\n",
       "      <td>0.015708</td>\n",
       "      <td>-0.070322</td>\n",
       "      <td>-0.035989</td>\n",
       "      <td>0.057933</td>\n",
       "      <td>0.081672</td>\n",
       "      <td>-0.116620</td>\n",
       "      <td>0.006083</td>\n",
       "      <td>0.088428</td>\n",
       "    </tr>\n",
       "    <tr>\n",
       "      <th>age</th>\n",
       "      <td>-0.028979</td>\n",
       "      <td>1.000000</td>\n",
       "      <td>-0.165883</td>\n",
       "      <td>-0.213748</td>\n",
       "      <td>-0.192791</td>\n",
       "      <td>0.122995</td>\n",
       "      <td>0.057655</td>\n",
       "      <td>0.307194</td>\n",
       "      <td>0.101258</td>\n",
       "      <td>0.262131</td>\n",
       "      <td>0.394302</td>\n",
       "      <td>0.206104</td>\n",
       "      <td>0.135800</td>\n",
       "      <td>-0.012823</td>\n",
       "      <td>0.122256</td>\n",
       "      <td>0.225256</td>\n",
       "    </tr>\n",
       "    <tr>\n",
       "      <th>education</th>\n",
       "      <td>0.017352</td>\n",
       "      <td>-0.165883</td>\n",
       "      <td>1.000000</td>\n",
       "      <td>0.018532</td>\n",
       "      <td>0.008085</td>\n",
       "      <td>-0.010815</td>\n",
       "      <td>-0.035112</td>\n",
       "      <td>-0.081970</td>\n",
       "      <td>-0.038680</td>\n",
       "      <td>-0.023115</td>\n",
       "      <td>-0.129631</td>\n",
       "      <td>-0.062316</td>\n",
       "      <td>-0.137504</td>\n",
       "      <td>-0.054206</td>\n",
       "      <td>-0.035721</td>\n",
       "      <td>-0.054059</td>\n",
       "    </tr>\n",
       "    <tr>\n",
       "      <th>currentSmoker</th>\n",
       "      <td>0.197596</td>\n",
       "      <td>-0.213748</td>\n",
       "      <td>0.018532</td>\n",
       "      <td>1.000000</td>\n",
       "      <td>0.769690</td>\n",
       "      <td>-0.048938</td>\n",
       "      <td>-0.032988</td>\n",
       "      <td>-0.103260</td>\n",
       "      <td>-0.044295</td>\n",
       "      <td>-0.046562</td>\n",
       "      <td>-0.130230</td>\n",
       "      <td>-0.107746</td>\n",
       "      <td>-0.167650</td>\n",
       "      <td>0.062356</td>\n",
       "      <td>-0.056826</td>\n",
       "      <td>0.019456</td>\n",
       "    </tr>\n",
       "    <tr>\n",
       "      <th>cigsPerDay</th>\n",
       "      <td>0.317930</td>\n",
       "      <td>-0.192791</td>\n",
       "      <td>0.008085</td>\n",
       "      <td>0.769690</td>\n",
       "      <td>1.000000</td>\n",
       "      <td>-0.046134</td>\n",
       "      <td>-0.032707</td>\n",
       "      <td>-0.066146</td>\n",
       "      <td>-0.037067</td>\n",
       "      <td>-0.026320</td>\n",
       "      <td>-0.088780</td>\n",
       "      <td>-0.056632</td>\n",
       "      <td>-0.092856</td>\n",
       "      <td>0.075157</td>\n",
       "      <td>-0.058960</td>\n",
       "      <td>0.057884</td>\n",
       "    </tr>\n",
       "    <tr>\n",
       "      <th>BPMeds</th>\n",
       "      <td>-0.052506</td>\n",
       "      <td>0.122995</td>\n",
       "      <td>-0.010815</td>\n",
       "      <td>-0.048938</td>\n",
       "      <td>-0.046134</td>\n",
       "      <td>1.000000</td>\n",
       "      <td>0.117365</td>\n",
       "      <td>0.261187</td>\n",
       "      <td>0.052047</td>\n",
       "      <td>0.080558</td>\n",
       "      <td>0.254219</td>\n",
       "      <td>0.194227</td>\n",
       "      <td>0.100668</td>\n",
       "      <td>0.015233</td>\n",
       "      <td>0.051176</td>\n",
       "      <td>0.087489</td>\n",
       "    </tr>\n",
       "    <tr>\n",
       "      <th>prevalentStroke</th>\n",
       "      <td>-0.004546</td>\n",
       "      <td>0.057655</td>\n",
       "      <td>-0.035112</td>\n",
       "      <td>-0.032988</td>\n",
       "      <td>-0.032707</td>\n",
       "      <td>0.117365</td>\n",
       "      <td>1.000000</td>\n",
       "      <td>0.074830</td>\n",
       "      <td>0.006949</td>\n",
       "      <td>0.000067</td>\n",
       "      <td>0.057009</td>\n",
       "      <td>0.045190</td>\n",
       "      <td>0.025891</td>\n",
       "      <td>-0.017676</td>\n",
       "      <td>0.018431</td>\n",
       "      <td>0.061810</td>\n",
       "    </tr>\n",
       "    <tr>\n",
       "      <th>prevalentHyp</th>\n",
       "      <td>0.005313</td>\n",
       "      <td>0.307194</td>\n",
       "      <td>-0.081970</td>\n",
       "      <td>-0.103260</td>\n",
       "      <td>-0.066146</td>\n",
       "      <td>0.261187</td>\n",
       "      <td>0.074830</td>\n",
       "      <td>1.000000</td>\n",
       "      <td>0.077808</td>\n",
       "      <td>0.163993</td>\n",
       "      <td>0.696755</td>\n",
       "      <td>0.615751</td>\n",
       "      <td>0.301318</td>\n",
       "      <td>0.147261</td>\n",
       "      <td>0.086834</td>\n",
       "      <td>0.177603</td>\n",
       "    </tr>\n",
       "    <tr>\n",
       "      <th>diabetes</th>\n",
       "      <td>0.015708</td>\n",
       "      <td>0.101258</td>\n",
       "      <td>-0.038680</td>\n",
       "      <td>-0.044295</td>\n",
       "      <td>-0.037067</td>\n",
       "      <td>0.052047</td>\n",
       "      <td>0.006949</td>\n",
       "      <td>0.077808</td>\n",
       "      <td>1.000000</td>\n",
       "      <td>0.040278</td>\n",
       "      <td>0.111283</td>\n",
       "      <td>0.050329</td>\n",
       "      <td>0.087036</td>\n",
       "      <td>0.048994</td>\n",
       "      <td>0.617627</td>\n",
       "      <td>0.097317</td>\n",
       "    </tr>\n",
       "    <tr>\n",
       "      <th>totChol</th>\n",
       "      <td>-0.070322</td>\n",
       "      <td>0.262131</td>\n",
       "      <td>-0.023115</td>\n",
       "      <td>-0.046562</td>\n",
       "      <td>-0.026320</td>\n",
       "      <td>0.080558</td>\n",
       "      <td>0.000067</td>\n",
       "      <td>0.163993</td>\n",
       "      <td>0.040278</td>\n",
       "      <td>1.000000</td>\n",
       "      <td>0.208908</td>\n",
       "      <td>0.165182</td>\n",
       "      <td>0.115767</td>\n",
       "      <td>0.091125</td>\n",
       "      <td>0.046408</td>\n",
       "      <td>0.082184</td>\n",
       "    </tr>\n",
       "    <tr>\n",
       "      <th>sysBP</th>\n",
       "      <td>-0.035989</td>\n",
       "      <td>0.394302</td>\n",
       "      <td>-0.129631</td>\n",
       "      <td>-0.130230</td>\n",
       "      <td>-0.088780</td>\n",
       "      <td>0.254219</td>\n",
       "      <td>0.057009</td>\n",
       "      <td>0.696755</td>\n",
       "      <td>0.111283</td>\n",
       "      <td>0.208908</td>\n",
       "      <td>1.000000</td>\n",
       "      <td>0.784002</td>\n",
       "      <td>0.326981</td>\n",
       "      <td>0.182246</td>\n",
       "      <td>0.140621</td>\n",
       "      <td>0.216429</td>\n",
       "    </tr>\n",
       "    <tr>\n",
       "      <th>diaBP</th>\n",
       "      <td>0.057933</td>\n",
       "      <td>0.206104</td>\n",
       "      <td>-0.062316</td>\n",
       "      <td>-0.107746</td>\n",
       "      <td>-0.056632</td>\n",
       "      <td>0.194227</td>\n",
       "      <td>0.045190</td>\n",
       "      <td>0.615751</td>\n",
       "      <td>0.050329</td>\n",
       "      <td>0.165182</td>\n",
       "      <td>0.784002</td>\n",
       "      <td>1.000000</td>\n",
       "      <td>0.377588</td>\n",
       "      <td>0.181255</td>\n",
       "      <td>0.061231</td>\n",
       "      <td>0.145299</td>\n",
       "    </tr>\n",
       "    <tr>\n",
       "      <th>BMI</th>\n",
       "      <td>0.081672</td>\n",
       "      <td>0.135800</td>\n",
       "      <td>-0.137504</td>\n",
       "      <td>-0.167650</td>\n",
       "      <td>-0.092856</td>\n",
       "      <td>0.100668</td>\n",
       "      <td>0.025891</td>\n",
       "      <td>0.301318</td>\n",
       "      <td>0.087036</td>\n",
       "      <td>0.115767</td>\n",
       "      <td>0.326981</td>\n",
       "      <td>0.377588</td>\n",
       "      <td>1.000000</td>\n",
       "      <td>0.067678</td>\n",
       "      <td>0.087377</td>\n",
       "      <td>0.075192</td>\n",
       "    </tr>\n",
       "    <tr>\n",
       "      <th>heartRate</th>\n",
       "      <td>-0.116620</td>\n",
       "      <td>-0.012823</td>\n",
       "      <td>-0.054206</td>\n",
       "      <td>0.062356</td>\n",
       "      <td>0.075157</td>\n",
       "      <td>0.015233</td>\n",
       "      <td>-0.017676</td>\n",
       "      <td>0.147261</td>\n",
       "      <td>0.048994</td>\n",
       "      <td>0.091125</td>\n",
       "      <td>0.182246</td>\n",
       "      <td>0.181255</td>\n",
       "      <td>0.067678</td>\n",
       "      <td>1.000000</td>\n",
       "      <td>0.094500</td>\n",
       "      <td>0.022913</td>\n",
       "    </tr>\n",
       "    <tr>\n",
       "      <th>glucose</th>\n",
       "      <td>0.006083</td>\n",
       "      <td>0.122256</td>\n",
       "      <td>-0.035721</td>\n",
       "      <td>-0.056826</td>\n",
       "      <td>-0.058960</td>\n",
       "      <td>0.051176</td>\n",
       "      <td>0.018431</td>\n",
       "      <td>0.086834</td>\n",
       "      <td>0.617627</td>\n",
       "      <td>0.046408</td>\n",
       "      <td>0.140621</td>\n",
       "      <td>0.061231</td>\n",
       "      <td>0.087377</td>\n",
       "      <td>0.094500</td>\n",
       "      <td>1.000000</td>\n",
       "      <td>0.125544</td>\n",
       "    </tr>\n",
       "    <tr>\n",
       "      <th>TenYearCHD</th>\n",
       "      <td>0.088428</td>\n",
       "      <td>0.225256</td>\n",
       "      <td>-0.054059</td>\n",
       "      <td>0.019456</td>\n",
       "      <td>0.057884</td>\n",
       "      <td>0.087489</td>\n",
       "      <td>0.061810</td>\n",
       "      <td>0.177603</td>\n",
       "      <td>0.097317</td>\n",
       "      <td>0.082184</td>\n",
       "      <td>0.216429</td>\n",
       "      <td>0.145299</td>\n",
       "      <td>0.075192</td>\n",
       "      <td>0.022913</td>\n",
       "      <td>0.125544</td>\n",
       "      <td>1.000000</td>\n",
       "    </tr>\n",
       "  </tbody>\n",
       "</table>\n",
       "</div>"
      ],
      "text/plain": [
       "                     male       age  education  currentSmoker  cigsPerDay  \\\n",
       "male             1.000000 -0.028979   0.017352       0.197596    0.317930   \n",
       "age             -0.028979  1.000000  -0.165883      -0.213748   -0.192791   \n",
       "education        0.017352 -0.165883   1.000000       0.018532    0.008085   \n",
       "currentSmoker    0.197596 -0.213748   0.018532       1.000000    0.769690   \n",
       "cigsPerDay       0.317930 -0.192791   0.008085       0.769690    1.000000   \n",
       "BPMeds          -0.052506  0.122995  -0.010815      -0.048938   -0.046134   \n",
       "prevalentStroke -0.004546  0.057655  -0.035112      -0.032988   -0.032707   \n",
       "prevalentHyp     0.005313  0.307194  -0.081970      -0.103260   -0.066146   \n",
       "diabetes         0.015708  0.101258  -0.038680      -0.044295   -0.037067   \n",
       "totChol         -0.070322  0.262131  -0.023115      -0.046562   -0.026320   \n",
       "sysBP           -0.035989  0.394302  -0.129631      -0.130230   -0.088780   \n",
       "diaBP            0.057933  0.206104  -0.062316      -0.107746   -0.056632   \n",
       "BMI              0.081672  0.135800  -0.137504      -0.167650   -0.092856   \n",
       "heartRate       -0.116620 -0.012823  -0.054206       0.062356    0.075157   \n",
       "glucose          0.006083  0.122256  -0.035721      -0.056826   -0.058960   \n",
       "TenYearCHD       0.088428  0.225256  -0.054059       0.019456    0.057884   \n",
       "\n",
       "                   BPMeds  prevalentStroke  prevalentHyp  diabetes   totChol  \\\n",
       "male            -0.052506        -0.004546      0.005313  0.015708 -0.070322   \n",
       "age              0.122995         0.057655      0.307194  0.101258  0.262131   \n",
       "education       -0.010815        -0.035112     -0.081970 -0.038680 -0.023115   \n",
       "currentSmoker   -0.048938        -0.032988     -0.103260 -0.044295 -0.046562   \n",
       "cigsPerDay      -0.046134        -0.032707     -0.066146 -0.037067 -0.026320   \n",
       "BPMeds           1.000000         0.117365      0.261187  0.052047  0.080558   \n",
       "prevalentStroke  0.117365         1.000000      0.074830  0.006949  0.000067   \n",
       "prevalentHyp     0.261187         0.074830      1.000000  0.077808  0.163993   \n",
       "diabetes         0.052047         0.006949      0.077808  1.000000  0.040278   \n",
       "totChol          0.080558         0.000067      0.163993  0.040278  1.000000   \n",
       "sysBP            0.254219         0.057009      0.696755  0.111283  0.208908   \n",
       "diaBP            0.194227         0.045190      0.615751  0.050329  0.165182   \n",
       "BMI              0.100668         0.025891      0.301318  0.087036  0.115767   \n",
       "heartRate        0.015233        -0.017676      0.147261  0.048994  0.091125   \n",
       "glucose          0.051176         0.018431      0.086834  0.617627  0.046408   \n",
       "TenYearCHD       0.087489         0.061810      0.177603  0.097317  0.082184   \n",
       "\n",
       "                    sysBP     diaBP       BMI  heartRate   glucose  TenYearCHD  \n",
       "male            -0.035989  0.057933  0.081672  -0.116620  0.006083    0.088428  \n",
       "age              0.394302  0.206104  0.135800  -0.012823  0.122256    0.225256  \n",
       "education       -0.129631 -0.062316 -0.137504  -0.054206 -0.035721   -0.054059  \n",
       "currentSmoker   -0.130230 -0.107746 -0.167650   0.062356 -0.056826    0.019456  \n",
       "cigsPerDay      -0.088780 -0.056632 -0.092856   0.075157 -0.058960    0.057884  \n",
       "BPMeds           0.254219  0.194227  0.100668   0.015233  0.051176    0.087489  \n",
       "prevalentStroke  0.057009  0.045190  0.025891  -0.017676  0.018431    0.061810  \n",
       "prevalentHyp     0.696755  0.615751  0.301318   0.147261  0.086834    0.177603  \n",
       "diabetes         0.111283  0.050329  0.087036   0.048994  0.617627    0.097317  \n",
       "totChol          0.208908  0.165182  0.115767   0.091125  0.046408    0.082184  \n",
       "sysBP            1.000000  0.784002  0.326981   0.182246  0.140621    0.216429  \n",
       "diaBP            0.784002  1.000000  0.377588   0.181255  0.061231    0.145299  \n",
       "BMI              0.326981  0.377588  1.000000   0.067678  0.087377    0.075192  \n",
       "heartRate        0.182246  0.181255  0.067678   1.000000  0.094500    0.022913  \n",
       "glucose          0.140621  0.061231  0.087377   0.094500  1.000000    0.125544  \n",
       "TenYearCHD       0.216429  0.145299  0.075192   0.022913  0.125544    1.000000  "
      ]
     },
     "execution_count": 4,
     "metadata": {},
     "output_type": "execute_result"
    }
   ],
   "source": [
    "df.corr()"
   ]
  },
  {
   "cell_type": "code",
   "execution_count": 6,
   "id": "f42bad66-9026-418f-8bae-d3e7b285140d",
   "metadata": {},
   "outputs": [
    {
     "data": {
      "image/png": "[encoded data removed]",
      "text/plain": [
       "<Figure size 1200x1000 with 2 Axes>"
      ]
     },
     "metadata": {},
     "output_type": "display_data"
    }
   ],
   "source": [
    "plt.figure(figsize=(12, 10))\n",
    "sns.heatmap(df.corr(), annot=True, cmap='coolwarm', fmt=\".2f\")\n",
    "plt.title('Correlation Heatmap of Numerical Variables')\n",
    "plt.show()"
   ]
  },
  {
   "cell_type": "markdown",
   "id": "b03b7156-27c9-4793-86f4-b1057502cc3e",
   "metadata": {
    "jp-MarkdownHeadingCollapsed": true
   },
   "source": [
    "# Visualize Data"
   ]
  },
  {
   "cell_type": "markdown",
   "id": "367716bb-3774-4684-a714-19b185c4617d",
   "metadata": {},
   "source": [
    "## distribution of ages for individuals with and without coronary heart disease within ten years."
   ]
  },
  {
   "cell_type": "code",
   "execution_count": 10,
   "id": "8f8dd717-b5fe-4911-a786-38bdc825fe2f",
   "metadata": {},
   "outputs": [
    {
     "data": {
      "image/png": "[encoded data removed]",
      "text/plain": [
       "<Figure size 800x600 with 1 Axes>"
      ]
     },
     "metadata": {},
     "output_type": "display_data"
    }
   ],
   "source": [
    "plt.figure(figsize=(8, 6))\n",
    "sns.boxplot(x='TenYearCHD', y='age', data=df)\n",
    "plt.title('Age vs. TenYearCHD')\n",
    "plt.xlabel('TenYearCHD')\n",
    "plt.ylabel('Age')\n",
    "plt.xticks([0, 1], ['No CHD', 'CHD'])\n",
    "plt.show()\n"
   ]
  },
  {
   "cell_type": "markdown",
   "id": "712b283e-3f1f-426d-abe8-3ea1d142586a",
   "metadata": {},
   "source": [
    "# Split Data"
   ]
  },
  {
   "cell_type": "code",
   "execution_count": 19,
   "id": "bcc49bb4-8034-4b46-b9da-b6c7e80635e6",
   "metadata": {},
   "outputs": [],
   "source": [
    "x_train, x_test, y_train, y_test = train_test_split(X, y, test_size=0.25, random_state=1)"
   ]
  },
  {
   "cell_type": "markdown",
   "id": "ea855f4c-7ffa-4749-aaec-5642a71ebe1d",
   "metadata": {
    "jp-MarkdownHeadingCollapsed": true
   },
   "source": [
    "# Feature Scalling (Standardization/normalization)"
   ]
  },
  {
   "cell_type": "markdown",
   "id": "a590d66a-1faf-4902-8578-e043f425594f",
   "metadata": {
    "jp-MarkdownHeadingCollapsed": true
   },
   "source": [
    "## Train"
   ]
  },
  {
   "cell_type": "code",
   "execution_count": 22,
   "id": "60cf6dc7-a87a-4a32-a616-68464afbb646",
   "metadata": {},
   "outputs": [],
   "source": [
    "scaler = StandardScaler().fit(x_train)"
   ]
  },
  {
   "cell_type": "code",
   "execution_count": 24,
   "id": "686ac308-b490-44ab-9b61-dc98c9ba32a5",
   "metadata": {},
   "outputs": [
    {
     "data": {
      "text/plain": [
       "array([[-8.95308256e-01, -9.96059320e-01,  2.81283510e-02, ...,\n",
       "        -3.10943585e-01, -2.22200441e-01, -8.87061007e-01],\n",
       "       [ 1.11693374e+00, -1.34810813e+00,  2.81283510e-02, ...,\n",
       "        -1.32759504e+00, -1.30350514e+00, -2.99387120e-03],\n",
       "       [-8.95308256e-01, -7.61360115e-01,  1.98073439e+00, ...,\n",
       "        -3.15819611e-01,  1.02545883e+00, -8.02864137e-01],\n",
       "       ...,\n",
       "       [ 1.11693374e+00,  9.98883928e-01, -9.48174669e-01, ...,\n",
       "         9.78765340e-01, -5.58458719e-02,  2.07498304e-01],\n",
       "       [ 1.11693374e+00,  8.81534325e-01, -9.48174669e-01, ...,\n",
       "         2.99987819e+00, -6.38086863e-01,  5.02187350e-01],\n",
       "       [ 1.11693374e+00, -1.11340892e+00, -9.48174669e-01, ...,\n",
       "         2.93683662e-01, -1.30350514e+00, -4.66076657e-01]])"
      ]
     },
     "execution_count": 24,
     "metadata": {},
     "output_type": "execute_result"
    }
   ],
   "source": [
    "#transform\n",
    "x_train_scaled = scaler.transform(x_train)\n",
    "x_train_scaled"
   ]
  },
  {
   "cell_type": "code",
   "execution_count": null,
   "id": "86b4dbb6-e6c5-4202-8e8f-b5beb62ef69a",
   "metadata": {},
   "outputs": [],
   "source": []
  },
  {
   "cell_type": "markdown",
   "id": "982a2672-9522-489c-9958-27454422d19b",
   "metadata": {
    "jp-MarkdownHeadingCollapsed": true
   },
   "source": [
    "## Test"
   ]
  },
  {
   "cell_type": "code",
   "execution_count": 25,
   "id": "07361f8b-3781-4884-84e7-e3869963a354",
   "metadata": {},
   "outputs": [],
   "source": [
    "scaler1 = StandardScaler().fit(x_test)"
   ]
  },
  {
   "cell_type": "code",
   "execution_count": 26,
   "id": "c660865d-d73c-411a-be69-f30409f04bda",
   "metadata": {},
   "outputs": [
    {
     "data": {
      "text/plain": [
       "array([[-0.88609043,  1.6416073 , -0.00538006, ...,  2.42750134,\n",
       "         2.03220046, -0.09081215],\n",
       "       [-0.88609043, -1.70293099, -0.00538006, ..., -1.26332124,\n",
       "         1.18868038, -0.04974223],\n",
       "       [ 1.12855299, -1.35694427, -0.00538006, ..., -1.32660695,\n",
       "         0.3451603 ,  0.36095695],\n",
       "       ...,\n",
       "       [ 1.12855299, -0.0883263 , -0.00538006, ..., -1.61265836,\n",
       "         0.17645628,  0.15560736],\n",
       "       [ 1.12855299,  0.60364714, -0.98885541, ..., -0.37478988,\n",
       "         0.09210427, -0.29616174],\n",
       "       [-0.88609043, -0.54964192, -0.00538006, ...,  0.16187294,\n",
       "        -0.6670638 , -0.58365117]])"
      ]
     },
     "execution_count": 26,
     "metadata": {},
     "output_type": "execute_result"
    }
   ],
   "source": [
    "#transform\n",
    "x_test_scaled = scaler1.transform(x_test)\n",
    "x_test_scaled"
   ]
  },
  {
   "cell_type": "markdown",
   "id": "aaa1ac0b-d6f3-48f6-a9a2-1074deccd35a",
   "metadata": {},
   "source": [
    "# Train Model"
   ]
  },
  {
   "cell_type": "markdown",
   "id": "b36756ca-20d4-4c13-a714-62ec35327a62",
   "metadata": {},
   "source": [
    "## scaled"
   ]
  },
  {
   "cell_type": "code",
   "execution_count": 31,
   "id": "433c9a82-d274-4cc7-9889-a6ec800d49bd",
   "metadata": {},
   "outputs": [
    {
     "data": {
      "text/html": [
       "<style>#sk-container-id-3 {color: black;background-color: white;}#sk-container-id-3 pre{padding: 0;}#sk-container-id-3 div.sk-toggleable {background-color: white;}#sk-container-id-3 label.sk-toggleable__label {cursor: pointer;display: block;width: 100%;margin-bottom: 0;padding: 0.3em;box-sizing: border-box;text-align: center;}#sk-container-id-3 label.sk-toggleable__label-arrow:before {content: \"▸\";float: left;margin-right: 0.25em;color: #696969;}#sk-container-id-3 label.sk-toggleable__label-arrow:hover:before {color: black;}#sk-container-id-3 div.sk-estimator:hover label.sk-toggleable__label-arrow:before {color: black;}#sk-container-id-3 div.sk-toggleable__content {max-height: 0;max-width: 0;overflow: hidden;text-align: left;background-color: #f0f8ff;}#sk-container-id-3 div.sk-toggleable__content pre {margin: 0.2em;color: black;border-radius: 0.25em;background-color: #f0f8ff;}#sk-container-id-3 input.sk-toggleable__control:checked~div.sk-toggleable__content {max-height: 200px;max-width: 100%;overflow: auto;}#sk-container-id-3 input.sk-toggleable__control:checked~label.sk-toggleable__label-arrow:before {content: \"▾\";}#sk-container-id-3 div.sk-estimator input.sk-toggleable__control:checked~label.sk-toggleable__label {background-color: #d4ebff;}#sk-container-id-3 div.sk-label input.sk-toggleable__control:checked~label.sk-toggleable__label {background-color: #d4ebff;}#sk-container-id-3 input.sk-hidden--visually {border: 0;clip: rect(1px 1px 1px 1px);clip: rect(1px, 1px, 1px, 1px);height: 1px;margin: -1px;overflow: hidden;padding: 0;position: absolute;width: 1px;}#sk-container-id-3 div.sk-estimator {font-family: monospace;background-color: #f0f8ff;border: 1px dotted black;border-radius: 0.25em;box-sizing: border-box;margin-bottom: 0.5em;}#sk-container-id-3 div.sk-estimator:hover {background-color: #d4ebff;}#sk-container-id-3 div.sk-parallel-item::after {content: \"\";width: 100%;border-bottom: 1px solid gray;flex-grow: 1;}#sk-container-id-3 div.sk-label:hover label.sk-toggleable__label {background-color: #d4ebff;}#sk-container-id-3 div.sk-serial::before {content: \"\";position: absolute;border-left: 1px solid gray;box-sizing: border-box;top: 0;bottom: 0;left: 50%;z-index: 0;}#sk-container-id-3 div.sk-serial {display: flex;flex-direction: column;align-items: center;background-color: white;padding-right: 0.2em;padding-left: 0.2em;position: relative;}#sk-container-id-3 div.sk-item {position: relative;z-index: 1;}#sk-container-id-3 div.sk-parallel {display: flex;align-items: stretch;justify-content: center;background-color: white;position: relative;}#sk-container-id-3 div.sk-item::before, #sk-container-id-3 div.sk-parallel-item::before {content: \"\";position: absolute;border-left: 1px solid gray;box-sizing: border-box;top: 0;bottom: 0;left: 50%;z-index: -1;}#sk-container-id-3 div.sk-parallel-item {display: flex;flex-direction: column;z-index: 1;position: relative;background-color: white;}#sk-container-id-3 div.sk-parallel-item:first-child::after {align-self: flex-end;width: 50%;}#sk-container-id-3 div.sk-parallel-item:last-child::after {align-self: flex-start;width: 50%;}#sk-container-id-3 div.sk-parallel-item:only-child::after {width: 0;}#sk-container-id-3 div.sk-dashed-wrapped {border: 1px dashed gray;margin: 0 0.4em 0.5em 0.4em;box-sizing: border-box;padding-bottom: 0.4em;background-color: white;}#sk-container-id-3 div.sk-label label {font-family: monospace;font-weight: bold;display: inline-block;line-height: 1.2em;}#sk-container-id-3 div.sk-label-container {text-align: center;}#sk-container-id-3 div.sk-container {/* jupyter's `normalize.less` sets `[hidden] { display: none; }` but bootstrap.min.css set `[hidden] { display: none !important; }` so we also need the `!important` here to be able to override the default hidden behavior on the sphinx rendered scikit-learn.org. See: https://github.com/scikit-learn/scikit-learn/issues/21755 */display: inline-block !important;position: relative;}#sk-container-id-3 div.sk-text-repr-fallback {display: none;}</style><div id=\"sk-container-id-3\" class=\"sk-top-container\"><div class=\"sk-text-repr-fallback\"><pre>GaussianNB()</pre><b>In a Jupyter environment, please rerun this cell to show the HTML representation or trust the notebook. <br />On GitHub, the HTML representation is unable to render, please try loading this page with nbviewer.org.</b></div><div class=\"sk-container\" hidden><div class=\"sk-item\"><div class=\"sk-estimator sk-toggleable\"><input class=\"sk-toggleable__control sk-hidden--visually\" id=\"sk-estimator-id-3\" type=\"checkbox\" checked><label for=\"sk-estimator-id-3\" class=\"sk-toggleable__label sk-toggleable__label-arrow\">GaussianNB</label><div class=\"sk-toggleable__content\"><pre>GaussianNB()</pre></div></div></div></div></div>"
      ],
      "text/plain": [
       "GaussianNB()"
      ]
     },
     "execution_count": 31,
     "metadata": {},
     "output_type": "execute_result"
    }
   ],
   "source": [
    "clf = GaussianNB()\n",
    "clf.fit(x_train_scaled, y_train)"
   ]
  },
  {
   "cell_type": "code",
   "execution_count": 32,
   "id": "eb9ae932-5c80-449e-9318-d7c3e22acadc",
   "metadata": {},
   "outputs": [],
   "source": [
    "y_pred = clf.predict(x_test_scaled)"
   ]
  },
  {
   "cell_type": "markdown",
   "id": "931c006b-6635-435e-96dd-3c82a6a6c808",
   "metadata": {},
   "source": [
    "## Unscaled"
   ]
  },
  {
   "cell_type": "code",
   "execution_count": 33,
   "id": "b355dd42-f60f-44f3-8e63-3f6fbae05f62",
   "metadata": {},
   "outputs": [
    {
     "data": {
      "text/html": [
       "<style>#sk-container-id-4 {color: black;background-color: white;}#sk-container-id-4 pre{padding: 0;}#sk-container-id-4 div.sk-toggleable {background-color: white;}#sk-container-id-4 label.sk-toggleable__label {cursor: pointer;display: block;width: 100%;margin-bottom: 0;padding: 0.3em;box-sizing: border-box;text-align: center;}#sk-container-id-4 label.sk-toggleable__label-arrow:before {content: \"▸\";float: left;margin-right: 0.25em;color: #696969;}#sk-container-id-4 label.sk-toggleable__label-arrow:hover:before {color: black;}#sk-container-id-4 div.sk-estimator:hover label.sk-toggleable__label-arrow:before {color: black;}#sk-container-id-4 div.sk-toggleable__content {max-height: 0;max-width: 0;overflow: hidden;text-align: left;background-color: #f0f8ff;}#sk-container-id-4 div.sk-toggleable__content pre {margin: 0.2em;color: black;border-radius: 0.25em;background-color: #f0f8ff;}#sk-container-id-4 input.sk-toggleable__control:checked~div.sk-toggleable__content {max-height: 200px;max-width: 100%;overflow: auto;}#sk-container-id-4 input.sk-toggleable__control:checked~label.sk-toggleable__label-arrow:before {content: \"▾\";}#sk-container-id-4 div.sk-estimator input.sk-toggleable__control:checked~label.sk-toggleable__label {background-color: #d4ebff;}#sk-container-id-4 div.sk-label input.sk-toggleable__control:checked~label.sk-toggleable__label {background-color: #d4ebff;}#sk-container-id-4 input.sk-hidden--visually {border: 0;clip: rect(1px 1px 1px 1px);clip: rect(1px, 1px, 1px, 1px);height: 1px;margin: -1px;overflow: hidden;padding: 0;position: absolute;width: 1px;}#sk-container-id-4 div.sk-estimator {font-family: monospace;background-color: #f0f8ff;border: 1px dotted black;border-radius: 0.25em;box-sizing: border-box;margin-bottom: 0.5em;}#sk-container-id-4 div.sk-estimator:hover {background-color: #d4ebff;}#sk-container-id-4 div.sk-parallel-item::after {content: \"\";width: 100%;border-bottom: 1px solid gray;flex-grow: 1;}#sk-container-id-4 div.sk-label:hover label.sk-toggleable__label {background-color: #d4ebff;}#sk-container-id-4 div.sk-serial::before {content: \"\";position: absolute;border-left: 1px solid gray;box-sizing: border-box;top: 0;bottom: 0;left: 50%;z-index: 0;}#sk-container-id-4 div.sk-serial {display: flex;flex-direction: column;align-items: center;background-color: white;padding-right: 0.2em;padding-left: 0.2em;position: relative;}#sk-container-id-4 div.sk-item {position: relative;z-index: 1;}#sk-container-id-4 div.sk-parallel {display: flex;align-items: stretch;justify-content: center;background-color: white;position: relative;}#sk-container-id-4 div.sk-item::before, #sk-container-id-4 div.sk-parallel-item::before {content: \"\";position: absolute;border-left: 1px solid gray;box-sizing: border-box;top: 0;bottom: 0;left: 50%;z-index: -1;}#sk-container-id-4 div.sk-parallel-item {display: flex;flex-direction: column;z-index: 1;position: relative;background-color: white;}#sk-container-id-4 div.sk-parallel-item:first-child::after {align-self: flex-end;width: 50%;}#sk-container-id-4 div.sk-parallel-item:last-child::after {align-self: flex-start;width: 50%;}#sk-container-id-4 div.sk-parallel-item:only-child::after {width: 0;}#sk-container-id-4 div.sk-dashed-wrapped {border: 1px dashed gray;margin: 0 0.4em 0.5em 0.4em;box-sizing: border-box;padding-bottom: 0.4em;background-color: white;}#sk-container-id-4 div.sk-label label {font-family: monospace;font-weight: bold;display: inline-block;line-height: 1.2em;}#sk-container-id-4 div.sk-label-container {text-align: center;}#sk-container-id-4 div.sk-container {/* jupyter's `normalize.less` sets `[hidden] { display: none; }` but bootstrap.min.css set `[hidden] { display: none !important; }` so we also need the `!important` here to be able to override the default hidden behavior on the sphinx rendered scikit-learn.org. See: https://github.com/scikit-learn/scikit-learn/issues/21755 */display: inline-block !important;position: relative;}#sk-container-id-4 div.sk-text-repr-fallback {display: none;}</style><div id=\"sk-container-id-4\" class=\"sk-top-container\"><div class=\"sk-text-repr-fallback\"><pre>GaussianNB()</pre><b>In a Jupyter environment, please rerun this cell to show the HTML representation or trust the notebook. <br />On GitHub, the HTML representation is unable to render, please try loading this page with nbviewer.org.</b></div><div class=\"sk-container\" hidden><div class=\"sk-item\"><div class=\"sk-estimator sk-toggleable\"><input class=\"sk-toggleable__control sk-hidden--visually\" id=\"sk-estimator-id-4\" type=\"checkbox\" checked><label for=\"sk-estimator-id-4\" class=\"sk-toggleable__label sk-toggleable__label-arrow\">GaussianNB</label><div class=\"sk-toggleable__content\"><pre>GaussianNB()</pre></div></div></div></div></div>"
      ],
      "text/plain": [
       "GaussianNB()"
      ]
     },
     "execution_count": 33,
     "metadata": {},
     "output_type": "execute_result"
    }
   ],
   "source": [
    "clf_un = GaussianNB()\n",
    "clf_un.fit(x_train, y_train)"
   ]
  },
  {
   "cell_type": "code",
   "execution_count": 34,
   "id": "e70bc109-d7c0-4d14-8f7c-4bbd21c81b4f",
   "metadata": {},
   "outputs": [
    {
     "name": "stderr",
     "output_type": "stream",
     "text": [
      "C:\\Users\\obasi\\anaconda3\\Lib\\site-packages\\sklearn\\base.py:432: UserWarning: X has feature names, but GaussianNB was fitted without feature names\n",
      "  warnings.warn(\n"
     ]
    }
   ],
   "source": [
    "y_pred_un = clf.predict(x_test)"
   ]
  },
  {
   "cell_type": "markdown",
   "id": "088f5626-e188-4fbc-85c6-5981f4253782",
   "metadata": {},
   "source": [
    "# Evaluate Model"
   ]
  },
  {
   "cell_type": "markdown",
   "id": "d023d32b-7b0c-4f33-a2ca-142114639ac1",
   "metadata": {},
   "source": [
    "## Scaled"
   ]
  },
  {
   "cell_type": "code",
   "execution_count": 42,
   "id": "8ba3ae32-1142-4f8e-8c54-649493ece68f",
   "metadata": {},
   "outputs": [
    {
     "name": "stdout",
     "output_type": "stream",
     "text": [
      "[[719  61]\n",
      " [106  28]]\n"
     ]
    }
   ],
   "source": [
    "print(confusion_matrix(y_test, y_pred))\n"
   ]
  },
  {
   "cell_type": "code",
   "execution_count": 43,
   "id": "137fdae3-1f9a-49ba-b74a-73ef602332b4",
   "metadata": {},
   "outputs": [
    {
     "name": "stdout",
     "output_type": "stream",
     "text": [
      "              precision    recall  f1-score   support\n",
      "\n",
      "           0       0.87      0.92      0.90       780\n",
      "           1       0.31      0.21      0.25       134\n",
      "\n",
      "    accuracy                           0.82       914\n",
      "   macro avg       0.59      0.57      0.57       914\n",
      "weighted avg       0.79      0.82      0.80       914\n",
      "\n"
     ]
    }
   ],
   "source": [
    "print(classification_report(y_test, y_pred))"
   ]
  },
  {
   "cell_type": "markdown",
   "id": "3a0983ec-11c9-4d30-b179-f69d54ad7d01",
   "metadata": {},
   "source": [
    "## Unscalled"
   ]
  },
  {
   "cell_type": "code",
   "execution_count": 44,
   "id": "b37dde92-24f3-42db-a620-bdbcb5ad6b44",
   "metadata": {},
   "outputs": [
    {
     "name": "stdout",
     "output_type": "stream",
     "text": [
      "[[  0 780]\n",
      " [  0 134]]\n"
     ]
    }
   ],
   "source": [
    "print(confusion_matrix(y_test, y_pred_un))\n"
   ]
  },
  {
   "cell_type": "code",
   "execution_count": 37,
   "id": "de674e19-d4d5-424a-9a2f-c21716bd4d7e",
   "metadata": {},
   "outputs": [
    {
     "name": "stdout",
     "output_type": "stream",
     "text": [
      "              precision    recall  f1-score   support\n",
      "\n",
      "           0       0.00      0.00      0.00       780\n",
      "           1       0.15      1.00      0.26       134\n",
      "\n",
      "    accuracy                           0.15       914\n",
      "   macro avg       0.07      0.50      0.13       914\n",
      "weighted avg       0.02      0.15      0.04       914\n",
      "\n"
     ]
    },
    {
     "name": "stderr",
     "output_type": "stream",
     "text": [
      "C:\\Users\\obasi\\anaconda3\\Lib\\site-packages\\sklearn\\metrics\\_classification.py:1344: UndefinedMetricWarning: Precision and F-score are ill-defined and being set to 0.0 in labels with no predicted samples. Use `zero_division` parameter to control this behavior.\n",
      "  _warn_prf(average, modifier, msg_start, len(result))\n",
      "C:\\Users\\obasi\\anaconda3\\Lib\\site-packages\\sklearn\\metrics\\_classification.py:1344: UndefinedMetricWarning: Precision and F-score are ill-defined and being set to 0.0 in labels with no predicted samples. Use `zero_division` parameter to control this behavior.\n",
      "  _warn_prf(average, modifier, msg_start, len(result))\n",
      "C:\\Users\\obasi\\anaconda3\\Lib\\site-packages\\sklearn\\metrics\\_classification.py:1344: UndefinedMetricWarning: Precision and F-score are ill-defined and being set to 0.0 in labels with no predicted samples. Use `zero_division` parameter to control this behavior.\n",
      "  _warn_prf(average, modifier, msg_start, len(result))\n"
     ]
    }
   ],
   "source": [
    "\n",
    "print(classification_report(y_test,y_pred_un))"
   ]
  },
  {
   "cell_type": "code",
   "execution_count": null,
   "id": "fac5168f-495a-4548-997f-aeb1b2f5fac3",
   "metadata": {},
   "outputs": [],
   "source": []
  }
 ],
 "metadata": {
  "kernelspec": {
   "display_name": "Python 3 (ipykernel)",
   "language": "python",
   "name": "python3"
  },
  "language_info": {
   "codemirror_mode": {
    "name": "ipython",
    "version": 3
   },
   "file_extension": ".py",
   "mimetype": "text/x-python",
   "name": "python",
   "nbconvert_exporter": "python",
   "pygments_lexer": "ipython3",
   "version": "3.11.7"
  }
 },
 "nbformat": 4,
 "nbformat_minor": 5
}
