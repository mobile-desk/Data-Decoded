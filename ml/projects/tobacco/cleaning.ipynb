{
 "cells": [
  {
   "cell_type": "markdown",
   "id": "003a04f4-c327-4414-be1f-7aff30c0f90e",
   "metadata": {},
   "source": [
    "# Import"
   ]
  },
  {
   "cell_type": "code",
   "execution_count": 1,
   "id": "928d7dc3-36cf-4ae1-a43f-e30038b9bd4e",
   "metadata": {},
   "outputs": [],
   "source": [
    "import pandas as pd\n",
    "from sklearn.preprocessing import LabelEncoder, OneHotEncoder, StandardScaler"
   ]
  },
  {
   "cell_type": "markdown",
   "id": "792522bd-a28a-4cf5-a21f-628524ce40b3",
   "metadata": {},
   "source": [
    "# Load Dataset"
   ]
  },
  {
   "cell_type": "code",
   "execution_count": 19,
   "id": "2ba5cced-f1a4-417f-b214-f69b0ad2b49e",
   "metadata": {},
   "outputs": [],
   "source": [
    "df = pd.read_csv('State_Tobacco_Related_Disparities_Dashboard_Data.csv')"
   ]
  },
  {
   "cell_type": "code",
   "execution_count": 3,
   "id": "7ae29670-f38f-4a05-940f-fa374160c4f1",
   "metadata": {},
   "outputs": [
    {
     "data": {
      "text/html": [
       "<div>\n",
       "<style scoped>\n",
       "    .dataframe tbody tr th:only-of-type {\n",
       "        vertical-align: middle;\n",
       "    }\n",
       "\n",
       "    .dataframe tbody tr th {\n",
       "        vertical-align: top;\n",
       "    }\n",
       "\n",
       "    .dataframe thead th {\n",
       "        text-align: right;\n",
       "    }\n",
       "</style>\n",
       "<table border=\"1\" class=\"dataframe\">\n",
       "  <thead>\n",
       "    <tr style=\"text-align: right;\">\n",
       "      <th></th>\n",
       "      <th>Year</th>\n",
       "      <th>State</th>\n",
       "      <th>Tobacco Use</th>\n",
       "      <th>Demographic</th>\n",
       "      <th>Comparing (Focus group)</th>\n",
       "      <th>Cigarette Use Prevalence % (Focus group)</th>\n",
       "      <th>To (Reference group)</th>\n",
       "      <th>Cigarette Use Prevalence % (Reference group)</th>\n",
       "      <th>Disparity Value</th>\n",
       "    </tr>\n",
       "  </thead>\n",
       "  <tbody>\n",
       "    <tr>\n",
       "      <th>0</th>\n",
       "      <td>2011</td>\n",
       "      <td>Alabama</td>\n",
       "      <td>Cigarette Use among Adults</td>\n",
       "      <td>Age</td>\n",
       "      <td>Age 18-24</td>\n",
       "      <td>30.3</td>\n",
       "      <td>Age 25-44</td>\n",
       "      <td>28.1</td>\n",
       "      <td>1.1</td>\n",
       "    </tr>\n",
       "    <tr>\n",
       "      <th>1</th>\n",
       "      <td>2011</td>\n",
       "      <td>Alabama</td>\n",
       "      <td>Cigarette Use among Adults</td>\n",
       "      <td>Age</td>\n",
       "      <td>Age 18-24</td>\n",
       "      <td>30.3</td>\n",
       "      <td>Age 45-64</td>\n",
       "      <td>26.0</td>\n",
       "      <td>1.2</td>\n",
       "    </tr>\n",
       "    <tr>\n",
       "      <th>2</th>\n",
       "      <td>2011</td>\n",
       "      <td>Alabama</td>\n",
       "      <td>Cigarette Use among Adults</td>\n",
       "      <td>Age</td>\n",
       "      <td>Age 18-24</td>\n",
       "      <td>30.3</td>\n",
       "      <td>Age 65 or older</td>\n",
       "      <td>10.2</td>\n",
       "      <td>3.0</td>\n",
       "    </tr>\n",
       "    <tr>\n",
       "      <th>3</th>\n",
       "      <td>2011</td>\n",
       "      <td>Alabama</td>\n",
       "      <td>Cigarette Use among Adults</td>\n",
       "      <td>Age</td>\n",
       "      <td>Age 25-44</td>\n",
       "      <td>28.1</td>\n",
       "      <td>Age 18-24</td>\n",
       "      <td>30.3</td>\n",
       "      <td>0.9</td>\n",
       "    </tr>\n",
       "    <tr>\n",
       "      <th>4</th>\n",
       "      <td>2011</td>\n",
       "      <td>Alabama</td>\n",
       "      <td>Cigarette Use among Adults</td>\n",
       "      <td>Age</td>\n",
       "      <td>Age 25-44</td>\n",
       "      <td>28.1</td>\n",
       "      <td>Age 45-64</td>\n",
       "      <td>26.0</td>\n",
       "      <td>1.1</td>\n",
       "    </tr>\n",
       "    <tr>\n",
       "      <th>...</th>\n",
       "      <td>...</td>\n",
       "      <td>...</td>\n",
       "      <td>...</td>\n",
       "      <td>...</td>\n",
       "      <td>...</td>\n",
       "      <td>...</td>\n",
       "      <td>...</td>\n",
       "      <td>...</td>\n",
       "      <td>...</td>\n",
       "    </tr>\n",
       "    <tr>\n",
       "      <th>45283</th>\n",
       "      <td>2022</td>\n",
       "      <td>West Virginia</td>\n",
       "      <td>Cigarette Use among Adults</td>\n",
       "      <td>Urban-Rural</td>\n",
       "      <td>Urban</td>\n",
       "      <td>20.8</td>\n",
       "      <td>Rural</td>\n",
       "      <td>21.7</td>\n",
       "      <td>1.0</td>\n",
       "    </tr>\n",
       "    <tr>\n",
       "      <th>45284</th>\n",
       "      <td>2022</td>\n",
       "      <td>Wisconsin</td>\n",
       "      <td>Cigarette Use among Adults</td>\n",
       "      <td>Urban-Rural</td>\n",
       "      <td>Rural</td>\n",
       "      <td>17.1</td>\n",
       "      <td>Urban</td>\n",
       "      <td>13.7</td>\n",
       "      <td>1.2</td>\n",
       "    </tr>\n",
       "    <tr>\n",
       "      <th>45285</th>\n",
       "      <td>2022</td>\n",
       "      <td>Wisconsin</td>\n",
       "      <td>Cigarette Use among Adults</td>\n",
       "      <td>Urban-Rural</td>\n",
       "      <td>Urban</td>\n",
       "      <td>13.7</td>\n",
       "      <td>Rural</td>\n",
       "      <td>17.1</td>\n",
       "      <td>0.8</td>\n",
       "    </tr>\n",
       "    <tr>\n",
       "      <th>45286</th>\n",
       "      <td>2022</td>\n",
       "      <td>Wyoming</td>\n",
       "      <td>Cigarette Use among Adults</td>\n",
       "      <td>Urban-Rural</td>\n",
       "      <td>Rural</td>\n",
       "      <td>13.5</td>\n",
       "      <td>Urban</td>\n",
       "      <td>16.3</td>\n",
       "      <td>0.8</td>\n",
       "    </tr>\n",
       "    <tr>\n",
       "      <th>45287</th>\n",
       "      <td>2022</td>\n",
       "      <td>Wyoming</td>\n",
       "      <td>Cigarette Use among Adults</td>\n",
       "      <td>Urban-Rural</td>\n",
       "      <td>Urban</td>\n",
       "      <td>16.3</td>\n",
       "      <td>Rural</td>\n",
       "      <td>13.5</td>\n",
       "      <td>1.2</td>\n",
       "    </tr>\n",
       "  </tbody>\n",
       "</table>\n",
       "<p>45288 rows × 9 columns</p>\n",
       "</div>"
      ],
      "text/plain": [
       "       Year          State                 Tobacco Use  Demographic  \\\n",
       "0      2011        Alabama  Cigarette Use among Adults          Age   \n",
       "1      2011        Alabama  Cigarette Use among Adults          Age   \n",
       "2      2011        Alabama  Cigarette Use among Adults          Age   \n",
       "3      2011        Alabama  Cigarette Use among Adults          Age   \n",
       "4      2011        Alabama  Cigarette Use among Adults          Age   \n",
       "...     ...            ...                         ...          ...   \n",
       "45283  2022  West Virginia  Cigarette Use among Adults  Urban-Rural   \n",
       "45284  2022      Wisconsin  Cigarette Use among Adults  Urban-Rural   \n",
       "45285  2022      Wisconsin  Cigarette Use among Adults  Urban-Rural   \n",
       "45286  2022        Wyoming  Cigarette Use among Adults  Urban-Rural   \n",
       "45287  2022        Wyoming  Cigarette Use among Adults  Urban-Rural   \n",
       "\n",
       "      Comparing (Focus group) Cigarette Use Prevalence % (Focus group)  \\\n",
       "0                   Age 18-24                                     30.3   \n",
       "1                   Age 18-24                                     30.3   \n",
       "2                   Age 18-24                                     30.3   \n",
       "3                   Age 25-44                                     28.1   \n",
       "4                   Age 25-44                                     28.1   \n",
       "...                       ...                                      ...   \n",
       "45283                   Urban                                     20.8   \n",
       "45284                   Rural                                     17.1   \n",
       "45285                   Urban                                     13.7   \n",
       "45286                   Rural                                     13.5   \n",
       "45287                   Urban                                     16.3   \n",
       "\n",
       "      To (Reference group) Cigarette Use Prevalence % (Reference group)  \\\n",
       "0                Age 25-44                                         28.1   \n",
       "1                Age 45-64                                         26.0   \n",
       "2          Age 65 or older                                         10.2   \n",
       "3                Age 18-24                                         30.3   \n",
       "4                Age 45-64                                         26.0   \n",
       "...                    ...                                          ...   \n",
       "45283                Rural                                         21.7   \n",
       "45284                Urban                                         13.7   \n",
       "45285                Rural                                         17.1   \n",
       "45286                Urban                                         16.3   \n",
       "45287                Rural                                         13.5   \n",
       "\n",
       "      Disparity Value  \n",
       "0                 1.1  \n",
       "1                 1.2  \n",
       "2                 3.0  \n",
       "3                 0.9  \n",
       "4                 1.1  \n",
       "...               ...  \n",
       "45283             1.0  \n",
       "45284             1.2  \n",
       "45285             0.8  \n",
       "45286             0.8  \n",
       "45287             1.2  \n",
       "\n",
       "[45288 rows x 9 columns]"
      ]
     },
     "execution_count": 3,
     "metadata": {},
     "output_type": "execute_result"
    }
   ],
   "source": [
    "df"
   ]
  },
  {
   "cell_type": "code",
   "execution_count": 4,
   "id": "e437070c-a22b-437e-ab23-9ee4abe6b4bd",
   "metadata": {},
   "outputs": [
    {
     "name": "stdout",
     "output_type": "stream",
     "text": [
      "<class 'pandas.core.frame.DataFrame'>\n",
      "RangeIndex: 45288 entries, 0 to 45287\n",
      "Data columns (total 9 columns):\n",
      " #   Column                                        Non-Null Count  Dtype \n",
      "---  ------                                        --------------  ----- \n",
      " 0   Year                                          45288 non-null  int64 \n",
      " 1   State                                         45288 non-null  object\n",
      " 2   Tobacco Use                                   45288 non-null  object\n",
      " 3   Demographic                                   45288 non-null  object\n",
      " 4   Comparing (Focus group)                       45288 non-null  object\n",
      " 5   Cigarette Use Prevalence % (Focus group)      45288 non-null  object\n",
      " 6   To (Reference group)                          45288 non-null  object\n",
      " 7   Cigarette Use Prevalence % (Reference group)  45288 non-null  object\n",
      " 8   Disparity Value                               45288 non-null  object\n",
      "dtypes: int64(1), object(8)\n",
      "memory usage: 3.1+ MB\n"
     ]
    }
   ],
   "source": [
    "df.info()"
   ]
  },
  {
   "cell_type": "markdown",
   "id": "d5cdd47b-bd32-4f3b-9502-47bd2ab9c4e5",
   "metadata": {},
   "source": [
    "# Exploratory Data Analysis"
   ]
  },
  {
   "cell_type": "code",
   "execution_count": 5,
   "id": "f1e0a00d-ac12-4e7d-8929-a9bc1e3c0d83",
   "metadata": {},
   "outputs": [
    {
     "data": {
      "text/plain": [
       "Index(['Year', 'State', 'Tobacco Use', 'Demographic',\n",
       "       'Comparing (Focus group)', 'Cigarette Use Prevalence % (Focus group)',\n",
       "       'To (Reference group)', 'Cigarette Use Prevalence % (Reference group)',\n",
       "       'Disparity Value'],\n",
       "      dtype='object')"
      ]
     },
     "execution_count": 5,
     "metadata": {},
     "output_type": "execute_result"
    }
   ],
   "source": [
    "df.columns"
   ]
  },
  {
   "cell_type": "code",
   "execution_count": 6,
   "id": "0346f007-9f6e-4509-bb46-fc587d5de2e6",
   "metadata": {},
   "outputs": [],
   "source": [
    "# Remove rows containing \"No Data\" in the 'Cigarette Use Prevalence % (Focus group)' column\n",
    "df = df[df['Cigarette Use Prevalence % (Focus group)'] != 'No Data']"
   ]
  },
  {
   "cell_type": "code",
   "execution_count": 7,
   "id": "7e6140a1-b6db-4408-8696-1d2cfc82b05b",
   "metadata": {},
   "outputs": [
    {
     "data": {
      "text/plain": [
       "(41084, 9)"
      ]
     },
     "execution_count": 7,
     "metadata": {},
     "output_type": "execute_result"
    }
   ],
   "source": [
    "df.shape"
   ]
  },
  {
   "cell_type": "code",
   "execution_count": 8,
   "id": "47ca26ee-86ed-4324-9a95-026287370856",
   "metadata": {},
   "outputs": [],
   "source": [
    "# Remove rows containing \"Not Applicable\" in the 'Disparity Value' column\n",
    "df = df[df['Disparity Value'] != 'Not Applicable']"
   ]
  },
  {
   "cell_type": "code",
   "execution_count": 9,
   "id": "fbb43adc-f20b-4359-9728-d9a10715399c",
   "metadata": {},
   "outputs": [
    {
     "data": {
      "text/plain": [
       "(38110, 9)"
      ]
     },
     "execution_count": 9,
     "metadata": {},
     "output_type": "execute_result"
    }
   ],
   "source": [
    "df.shape"
   ]
  },
  {
   "cell_type": "markdown",
   "id": "1775c7a5-20ca-4a9e-80c6-6a104ee99a8a",
   "metadata": {},
   "source": [
    "### Save new file"
   ]
  },
  {
   "cell_type": "code",
   "execution_count": 10,
   "id": "27b6ea98-2632-4c07-9e92-2b4085e76a9f",
   "metadata": {},
   "outputs": [],
   "source": [
    "df.to_csv('cleaned_tobacco.csv', index=False)"
   ]
  },
  {
   "cell_type": "markdown",
   "id": "7793b751-55d4-473c-94cb-6fbd24521414",
   "metadata": {},
   "source": [
    "## creating unique nummerical data for labels"
   ]
  },
  {
   "cell_type": "code",
   "execution_count": 11,
   "id": "909ef569-ae32-4d16-a870-5f0eff1e16a9",
   "metadata": {},
   "outputs": [
    {
     "data": {
      "text/html": [
       "<div>\n",
       "<style scoped>\n",
       "    .dataframe tbody tr th:only-of-type {\n",
       "        vertical-align: middle;\n",
       "    }\n",
       "\n",
       "    .dataframe tbody tr th {\n",
       "        vertical-align: top;\n",
       "    }\n",
       "\n",
       "    .dataframe thead th {\n",
       "        text-align: right;\n",
       "    }\n",
       "</style>\n",
       "<table border=\"1\" class=\"dataframe\">\n",
       "  <thead>\n",
       "    <tr style=\"text-align: right;\">\n",
       "      <th></th>\n",
       "      <th>Year</th>\n",
       "      <th>State</th>\n",
       "      <th>Tobacco Use</th>\n",
       "      <th>Demographic</th>\n",
       "      <th>Comparing (Focus group)</th>\n",
       "      <th>Cigarette Use Prevalence % (Focus group)</th>\n",
       "      <th>To (Reference group)</th>\n",
       "      <th>Cigarette Use Prevalence % (Reference group)</th>\n",
       "      <th>Disparity Value</th>\n",
       "    </tr>\n",
       "  </thead>\n",
       "  <tbody>\n",
       "    <tr>\n",
       "      <th>0</th>\n",
       "      <td>2011</td>\n",
       "      <td>Alabama</td>\n",
       "      <td>Cigarette Use among Adults</td>\n",
       "      <td>Age</td>\n",
       "      <td>Age 18-24</td>\n",
       "      <td>30.3</td>\n",
       "      <td>Age 25-44</td>\n",
       "      <td>28.1</td>\n",
       "      <td>1.1</td>\n",
       "    </tr>\n",
       "    <tr>\n",
       "      <th>1</th>\n",
       "      <td>2011</td>\n",
       "      <td>Alabama</td>\n",
       "      <td>Cigarette Use among Adults</td>\n",
       "      <td>Age</td>\n",
       "      <td>Age 18-24</td>\n",
       "      <td>30.3</td>\n",
       "      <td>Age 45-64</td>\n",
       "      <td>26.0</td>\n",
       "      <td>1.2</td>\n",
       "    </tr>\n",
       "    <tr>\n",
       "      <th>2</th>\n",
       "      <td>2011</td>\n",
       "      <td>Alabama</td>\n",
       "      <td>Cigarette Use among Adults</td>\n",
       "      <td>Age</td>\n",
       "      <td>Age 18-24</td>\n",
       "      <td>30.3</td>\n",
       "      <td>Age 65 or older</td>\n",
       "      <td>10.2</td>\n",
       "      <td>3.0</td>\n",
       "    </tr>\n",
       "    <tr>\n",
       "      <th>3</th>\n",
       "      <td>2011</td>\n",
       "      <td>Alabama</td>\n",
       "      <td>Cigarette Use among Adults</td>\n",
       "      <td>Age</td>\n",
       "      <td>Age 25-44</td>\n",
       "      <td>28.1</td>\n",
       "      <td>Age 18-24</td>\n",
       "      <td>30.3</td>\n",
       "      <td>0.9</td>\n",
       "    </tr>\n",
       "    <tr>\n",
       "      <th>4</th>\n",
       "      <td>2011</td>\n",
       "      <td>Alabama</td>\n",
       "      <td>Cigarette Use among Adults</td>\n",
       "      <td>Age</td>\n",
       "      <td>Age 25-44</td>\n",
       "      <td>28.1</td>\n",
       "      <td>Age 45-64</td>\n",
       "      <td>26.0</td>\n",
       "      <td>1.1</td>\n",
       "    </tr>\n",
       "  </tbody>\n",
       "</table>\n",
       "</div>"
      ],
      "text/plain": [
       "   Year    State                 Tobacco Use Demographic  \\\n",
       "0  2011  Alabama  Cigarette Use among Adults         Age   \n",
       "1  2011  Alabama  Cigarette Use among Adults         Age   \n",
       "2  2011  Alabama  Cigarette Use among Adults         Age   \n",
       "3  2011  Alabama  Cigarette Use among Adults         Age   \n",
       "4  2011  Alabama  Cigarette Use among Adults         Age   \n",
       "\n",
       "  Comparing (Focus group) Cigarette Use Prevalence % (Focus group)  \\\n",
       "0               Age 18-24                                     30.3   \n",
       "1               Age 18-24                                     30.3   \n",
       "2               Age 18-24                                     30.3   \n",
       "3               Age 25-44                                     28.1   \n",
       "4               Age 25-44                                     28.1   \n",
       "\n",
       "  To (Reference group) Cigarette Use Prevalence % (Reference group)  \\\n",
       "0            Age 25-44                                         28.1   \n",
       "1            Age 45-64                                         26.0   \n",
       "2      Age 65 or older                                         10.2   \n",
       "3            Age 18-24                                         30.3   \n",
       "4            Age 45-64                                         26.0   \n",
       "\n",
       "  Disparity Value  \n",
       "0             1.1  \n",
       "1             1.2  \n",
       "2             3.0  \n",
       "3             0.9  \n",
       "4             1.1  "
      ]
     },
     "execution_count": 11,
     "metadata": {},
     "output_type": "execute_result"
    }
   ],
   "source": [
    "df.head()"
   ]
  },
  {
   "cell_type": "code",
   "execution_count": 12,
   "id": "b3304259-5cdf-4507-a543-e21e306fbfa0",
   "metadata": {},
   "outputs": [
    {
     "data": {
      "text/plain": [
       "array(['Alabama', 'Alaska', 'Arizona', 'Arkansas', 'California',\n",
       "       'Colorado', 'Connecticut', 'Delaware', 'District of Columbia',\n",
       "       'Florida', 'Georgia', 'Hawaii', 'Idaho', 'Illinois', 'Indiana',\n",
       "       'Iowa', 'Kansas', 'Kentucky', 'Louisiana', 'Maine', 'Maryland',\n",
       "       'Massachusetts', 'Michigan', 'Minnesota', 'Mississippi',\n",
       "       'Missouri', 'Montana', 'Nebraska', 'Nevada', 'New Hampshire',\n",
       "       'New Jersey', 'New Mexico', 'New York', 'North Carolina',\n",
       "       'North Dakota', 'Ohio', 'Oklahoma', 'Oregon', 'Pennsylvania',\n",
       "       'Rhode Island', 'South Carolina', 'South Dakota', 'Tennessee',\n",
       "       'Texas', 'Utah', 'Vermont', 'Virginia', 'Washington',\n",
       "       'West Virginia', 'Wisconsin', 'Wyoming'], dtype=object)"
      ]
     },
     "execution_count": 12,
     "metadata": {},
     "output_type": "execute_result"
    }
   ],
   "source": [
    "df['State'].unique()"
   ]
  },
  {
   "cell_type": "code",
   "execution_count": 13,
   "id": "6bc53223-64f1-4384-b4af-c7d213a43a05",
   "metadata": {},
   "outputs": [
    {
     "data": {
      "text/plain": [
       "array(['Cigarette Use among Adults'], dtype=object)"
      ]
     },
     "execution_count": 13,
     "metadata": {},
     "output_type": "execute_result"
    }
   ],
   "source": [
    "df['Tobacco Use'].unique()"
   ]
  },
  {
   "cell_type": "code",
   "execution_count": 14,
   "id": "784e0e00-c874-4520-9cba-dccb52762812",
   "metadata": {},
   "outputs": [
    {
     "data": {
      "text/plain": [
       "array(['Age', 'Disability', 'Education', 'Employment', 'Income',\n",
       "       'Mental Health', 'Race and Ethnicity', 'Sex at Birth',\n",
       "       'Urban-Rural'], dtype=object)"
      ]
     },
     "execution_count": 14,
     "metadata": {},
     "output_type": "execute_result"
    }
   ],
   "source": [
    "df['Demographic'].unique()"
   ]
  },
  {
   "cell_type": "code",
   "execution_count": null,
   "id": "169c2200-ece6-41b2-8753-f9a93b3a1c3f",
   "metadata": {},
   "outputs": [],
   "source": []
  },
  {
   "cell_type": "code",
   "execution_count": null,
   "id": "afcc857d-75d2-44e7-a988-cd5615a09c66",
   "metadata": {},
   "outputs": [],
   "source": []
  },
  {
   "cell_type": "code",
   "execution_count": 15,
   "id": "0112dbdb-ed82-428c-864c-f2c8afe5518f",
   "metadata": {},
   "outputs": [
    {
     "data": {
      "text/html": [
       "<style>#sk-container-id-1 {color: black;background-color: white;}#sk-container-id-1 pre{padding: 0;}#sk-container-id-1 div.sk-toggleable {background-color: white;}#sk-container-id-1 label.sk-toggleable__label {cursor: pointer;display: block;width: 100%;margin-bottom: 0;padding: 0.3em;box-sizing: border-box;text-align: center;}#sk-container-id-1 label.sk-toggleable__label-arrow:before {content: \"▸\";float: left;margin-right: 0.25em;color: #696969;}#sk-container-id-1 label.sk-toggleable__label-arrow:hover:before {color: black;}#sk-container-id-1 div.sk-estimator:hover label.sk-toggleable__label-arrow:before {color: black;}#sk-container-id-1 div.sk-toggleable__content {max-height: 0;max-width: 0;overflow: hidden;text-align: left;background-color: #f0f8ff;}#sk-container-id-1 div.sk-toggleable__content pre {margin: 0.2em;color: black;border-radius: 0.25em;background-color: #f0f8ff;}#sk-container-id-1 input.sk-toggleable__control:checked~div.sk-toggleable__content {max-height: 200px;max-width: 100%;overflow: auto;}#sk-container-id-1 input.sk-toggleable__control:checked~label.sk-toggleable__label-arrow:before {content: \"▾\";}#sk-container-id-1 div.sk-estimator input.sk-toggleable__control:checked~label.sk-toggleable__label {background-color: #d4ebff;}#sk-container-id-1 div.sk-label input.sk-toggleable__control:checked~label.sk-toggleable__label {background-color: #d4ebff;}#sk-container-id-1 input.sk-hidden--visually {border: 0;clip: rect(1px 1px 1px 1px);clip: rect(1px, 1px, 1px, 1px);height: 1px;margin: -1px;overflow: hidden;padding: 0;position: absolute;width: 1px;}#sk-container-id-1 div.sk-estimator {font-family: monospace;background-color: #f0f8ff;border: 1px dotted black;border-radius: 0.25em;box-sizing: border-box;margin-bottom: 0.5em;}#sk-container-id-1 div.sk-estimator:hover {background-color: #d4ebff;}#sk-container-id-1 div.sk-parallel-item::after {content: \"\";width: 100%;border-bottom: 1px solid gray;flex-grow: 1;}#sk-container-id-1 div.sk-label:hover label.sk-toggleable__label {background-color: #d4ebff;}#sk-container-id-1 div.sk-serial::before {content: \"\";position: absolute;border-left: 1px solid gray;box-sizing: border-box;top: 0;bottom: 0;left: 50%;z-index: 0;}#sk-container-id-1 div.sk-serial {display: flex;flex-direction: column;align-items: center;background-color: white;padding-right: 0.2em;padding-left: 0.2em;position: relative;}#sk-container-id-1 div.sk-item {position: relative;z-index: 1;}#sk-container-id-1 div.sk-parallel {display: flex;align-items: stretch;justify-content: center;background-color: white;position: relative;}#sk-container-id-1 div.sk-item::before, #sk-container-id-1 div.sk-parallel-item::before {content: \"\";position: absolute;border-left: 1px solid gray;box-sizing: border-box;top: 0;bottom: 0;left: 50%;z-index: -1;}#sk-container-id-1 div.sk-parallel-item {display: flex;flex-direction: column;z-index: 1;position: relative;background-color: white;}#sk-container-id-1 div.sk-parallel-item:first-child::after {align-self: flex-end;width: 50%;}#sk-container-id-1 div.sk-parallel-item:last-child::after {align-self: flex-start;width: 50%;}#sk-container-id-1 div.sk-parallel-item:only-child::after {width: 0;}#sk-container-id-1 div.sk-dashed-wrapped {border: 1px dashed gray;margin: 0 0.4em 0.5em 0.4em;box-sizing: border-box;padding-bottom: 0.4em;background-color: white;}#sk-container-id-1 div.sk-label label {font-family: monospace;font-weight: bold;display: inline-block;line-height: 1.2em;}#sk-container-id-1 div.sk-label-container {text-align: center;}#sk-container-id-1 div.sk-container {/* jupyter's `normalize.less` sets `[hidden] { display: none; }` but bootstrap.min.css set `[hidden] { display: none !important; }` so we also need the `!important` here to be able to override the default hidden behavior on the sphinx rendered scikit-learn.org. See: https://github.com/scikit-learn/scikit-learn/issues/21755 */display: inline-block !important;position: relative;}#sk-container-id-1 div.sk-text-repr-fallback {display: none;}</style><div id=\"sk-container-id-1\" class=\"sk-top-container\"><div class=\"sk-text-repr-fallback\"><pre>LabelEncoder()</pre><b>In a Jupyter environment, please rerun this cell to show the HTML representation or trust the notebook. <br />On GitHub, the HTML representation is unable to render, please try loading this page with nbviewer.org.</b></div><div class=\"sk-container\" hidden><div class=\"sk-item\"><div class=\"sk-estimator sk-toggleable\"><input class=\"sk-toggleable__control sk-hidden--visually\" id=\"sk-estimator-id-1\" type=\"checkbox\" checked><label for=\"sk-estimator-id-1\" class=\"sk-toggleable__label sk-toggleable__label-arrow\">LabelEncoder</label><div class=\"sk-toggleable__content\"><pre>LabelEncoder()</pre></div></div></div></div></div>"
      ],
      "text/plain": [
       "LabelEncoder()"
      ]
     },
     "execution_count": 15,
     "metadata": {},
     "output_type": "execute_result"
    }
   ],
   "source": [
    "label_encoder = LabelEncoder()\n",
    "label_encoder"
   ]
  },
  {
   "cell_type": "code",
   "execution_count": 16,
   "id": "9bedf511-34e8-4aca-b7d6-d6b154806a12",
   "metadata": {},
   "outputs": [],
   "source": [
    "df['State'] = label_encoder.fit_transform(df['State'])\n",
    "df['Tobacco Use'] = label_encoder.fit_transform(df['Tobacco Use'])\n",
    "df['Demographic'] = label_encoder.fit_transform(df['Demographic'])"
   ]
  },
  {
   "cell_type": "code",
   "execution_count": 17,
   "id": "f1faf3e8-ecc7-40de-85ba-7caa72c64ea2",
   "metadata": {},
   "outputs": [
    {
     "data": {
      "text/html": [
       "<div>\n",
       "<style scoped>\n",
       "    .dataframe tbody tr th:only-of-type {\n",
       "        vertical-align: middle;\n",
       "    }\n",
       "\n",
       "    .dataframe tbody tr th {\n",
       "        vertical-align: top;\n",
       "    }\n",
       "\n",
       "    .dataframe thead th {\n",
       "        text-align: right;\n",
       "    }\n",
       "</style>\n",
       "<table border=\"1\" class=\"dataframe\">\n",
       "  <thead>\n",
       "    <tr style=\"text-align: right;\">\n",
       "      <th></th>\n",
       "      <th>Year</th>\n",
       "      <th>State</th>\n",
       "      <th>Tobacco Use</th>\n",
       "      <th>Demographic</th>\n",
       "      <th>Comparing (Focus group)</th>\n",
       "      <th>Cigarette Use Prevalence % (Focus group)</th>\n",
       "      <th>To (Reference group)</th>\n",
       "      <th>Cigarette Use Prevalence % (Reference group)</th>\n",
       "      <th>Disparity Value</th>\n",
       "    </tr>\n",
       "  </thead>\n",
       "  <tbody>\n",
       "    <tr>\n",
       "      <th>0</th>\n",
       "      <td>2011</td>\n",
       "      <td>0</td>\n",
       "      <td>0</td>\n",
       "      <td>0</td>\n",
       "      <td>Age 18-24</td>\n",
       "      <td>30.3</td>\n",
       "      <td>Age 25-44</td>\n",
       "      <td>28.1</td>\n",
       "      <td>1.1</td>\n",
       "    </tr>\n",
       "    <tr>\n",
       "      <th>1</th>\n",
       "      <td>2011</td>\n",
       "      <td>0</td>\n",
       "      <td>0</td>\n",
       "      <td>0</td>\n",
       "      <td>Age 18-24</td>\n",
       "      <td>30.3</td>\n",
       "      <td>Age 45-64</td>\n",
       "      <td>26.0</td>\n",
       "      <td>1.2</td>\n",
       "    </tr>\n",
       "    <tr>\n",
       "      <th>2</th>\n",
       "      <td>2011</td>\n",
       "      <td>0</td>\n",
       "      <td>0</td>\n",
       "      <td>0</td>\n",
       "      <td>Age 18-24</td>\n",
       "      <td>30.3</td>\n",
       "      <td>Age 65 or older</td>\n",
       "      <td>10.2</td>\n",
       "      <td>3.0</td>\n",
       "    </tr>\n",
       "    <tr>\n",
       "      <th>3</th>\n",
       "      <td>2011</td>\n",
       "      <td>0</td>\n",
       "      <td>0</td>\n",
       "      <td>0</td>\n",
       "      <td>Age 25-44</td>\n",
       "      <td>28.1</td>\n",
       "      <td>Age 18-24</td>\n",
       "      <td>30.3</td>\n",
       "      <td>0.9</td>\n",
       "    </tr>\n",
       "    <tr>\n",
       "      <th>4</th>\n",
       "      <td>2011</td>\n",
       "      <td>0</td>\n",
       "      <td>0</td>\n",
       "      <td>0</td>\n",
       "      <td>Age 25-44</td>\n",
       "      <td>28.1</td>\n",
       "      <td>Age 45-64</td>\n",
       "      <td>26.0</td>\n",
       "      <td>1.1</td>\n",
       "    </tr>\n",
       "    <tr>\n",
       "      <th>...</th>\n",
       "      <td>...</td>\n",
       "      <td>...</td>\n",
       "      <td>...</td>\n",
       "      <td>...</td>\n",
       "      <td>...</td>\n",
       "      <td>...</td>\n",
       "      <td>...</td>\n",
       "      <td>...</td>\n",
       "      <td>...</td>\n",
       "    </tr>\n",
       "    <tr>\n",
       "      <th>45283</th>\n",
       "      <td>2022</td>\n",
       "      <td>48</td>\n",
       "      <td>0</td>\n",
       "      <td>8</td>\n",
       "      <td>Urban</td>\n",
       "      <td>20.8</td>\n",
       "      <td>Rural</td>\n",
       "      <td>21.7</td>\n",
       "      <td>1.0</td>\n",
       "    </tr>\n",
       "    <tr>\n",
       "      <th>45284</th>\n",
       "      <td>2022</td>\n",
       "      <td>49</td>\n",
       "      <td>0</td>\n",
       "      <td>8</td>\n",
       "      <td>Rural</td>\n",
       "      <td>17.1</td>\n",
       "      <td>Urban</td>\n",
       "      <td>13.7</td>\n",
       "      <td>1.2</td>\n",
       "    </tr>\n",
       "    <tr>\n",
       "      <th>45285</th>\n",
       "      <td>2022</td>\n",
       "      <td>49</td>\n",
       "      <td>0</td>\n",
       "      <td>8</td>\n",
       "      <td>Urban</td>\n",
       "      <td>13.7</td>\n",
       "      <td>Rural</td>\n",
       "      <td>17.1</td>\n",
       "      <td>0.8</td>\n",
       "    </tr>\n",
       "    <tr>\n",
       "      <th>45286</th>\n",
       "      <td>2022</td>\n",
       "      <td>50</td>\n",
       "      <td>0</td>\n",
       "      <td>8</td>\n",
       "      <td>Rural</td>\n",
       "      <td>13.5</td>\n",
       "      <td>Urban</td>\n",
       "      <td>16.3</td>\n",
       "      <td>0.8</td>\n",
       "    </tr>\n",
       "    <tr>\n",
       "      <th>45287</th>\n",
       "      <td>2022</td>\n",
       "      <td>50</td>\n",
       "      <td>0</td>\n",
       "      <td>8</td>\n",
       "      <td>Urban</td>\n",
       "      <td>16.3</td>\n",
       "      <td>Rural</td>\n",
       "      <td>13.5</td>\n",
       "      <td>1.2</td>\n",
       "    </tr>\n",
       "  </tbody>\n",
       "</table>\n",
       "<p>38110 rows × 9 columns</p>\n",
       "</div>"
      ],
      "text/plain": [
       "       Year  State  Tobacco Use  Demographic Comparing (Focus group)  \\\n",
       "0      2011      0            0            0               Age 18-24   \n",
       "1      2011      0            0            0               Age 18-24   \n",
       "2      2011      0            0            0               Age 18-24   \n",
       "3      2011      0            0            0               Age 25-44   \n",
       "4      2011      0            0            0               Age 25-44   \n",
       "...     ...    ...          ...          ...                     ...   \n",
       "45283  2022     48            0            8                   Urban   \n",
       "45284  2022     49            0            8                   Rural   \n",
       "45285  2022     49            0            8                   Urban   \n",
       "45286  2022     50            0            8                   Rural   \n",
       "45287  2022     50            0            8                   Urban   \n",
       "\n",
       "      Cigarette Use Prevalence % (Focus group) To (Reference group)  \\\n",
       "0                                         30.3            Age 25-44   \n",
       "1                                         30.3            Age 45-64   \n",
       "2                                         30.3      Age 65 or older   \n",
       "3                                         28.1            Age 18-24   \n",
       "4                                         28.1            Age 45-64   \n",
       "...                                        ...                  ...   \n",
       "45283                                     20.8                Rural   \n",
       "45284                                     17.1                Urban   \n",
       "45285                                     13.7                Rural   \n",
       "45286                                     13.5                Urban   \n",
       "45287                                     16.3                Rural   \n",
       "\n",
       "      Cigarette Use Prevalence % (Reference group) Disparity Value  \n",
       "0                                             28.1             1.1  \n",
       "1                                             26.0             1.2  \n",
       "2                                             10.2             3.0  \n",
       "3                                             30.3             0.9  \n",
       "4                                             26.0             1.1  \n",
       "...                                            ...             ...  \n",
       "45283                                         21.7             1.0  \n",
       "45284                                         13.7             1.2  \n",
       "45285                                         17.1             0.8  \n",
       "45286                                         16.3             0.8  \n",
       "45287                                         13.5             1.2  \n",
       "\n",
       "[38110 rows x 9 columns]"
      ]
     },
     "execution_count": 17,
     "metadata": {},
     "output_type": "execute_result"
    }
   ],
   "source": [
    "df\n"
   ]
  },
  {
   "cell_type": "markdown",
   "id": "e552b6a7-3256-4193-8b98-c3555f8f41f4",
   "metadata": {},
   "source": [
    "## save file"
   ]
  },
  {
   "cell_type": "code",
   "execution_count": 18,
   "id": "52e89915-3c52-4e22-8217-37943f110f08",
   "metadata": {},
   "outputs": [],
   "source": [
    "df.to_csv('label_encoded_tobacco.csv', index=False)"
   ]
  },
  {
   "cell_type": "markdown",
   "id": "cfcb1675-6772-4c00-b2c9-ec6782c685cc",
   "metadata": {},
   "source": [
    "# New table to get age"
   ]
  },
  {
   "cell_type": "code",
   "execution_count": 20,
   "id": "0f94f225-8bbb-4977-b518-a5a8470086ca",
   "metadata": {},
   "outputs": [
    {
     "data": {
      "text/html": [
       "<div>\n",
       "<style scoped>\n",
       "    .dataframe tbody tr th:only-of-type {\n",
       "        vertical-align: middle;\n",
       "    }\n",
       "\n",
       "    .dataframe tbody tr th {\n",
       "        vertical-align: top;\n",
       "    }\n",
       "\n",
       "    .dataframe thead th {\n",
       "        text-align: right;\n",
       "    }\n",
       "</style>\n",
       "<table border=\"1\" class=\"dataframe\">\n",
       "  <thead>\n",
       "    <tr style=\"text-align: right;\">\n",
       "      <th></th>\n",
       "      <th>Year</th>\n",
       "      <th>State</th>\n",
       "      <th>Tobacco Use</th>\n",
       "      <th>Demographic</th>\n",
       "      <th>Comparing (Focus group)</th>\n",
       "      <th>Cigarette Use Prevalence % (Focus group)</th>\n",
       "      <th>To (Reference group)</th>\n",
       "      <th>Cigarette Use Prevalence % (Reference group)</th>\n",
       "      <th>Disparity Value</th>\n",
       "    </tr>\n",
       "  </thead>\n",
       "  <tbody>\n",
       "    <tr>\n",
       "      <th>0</th>\n",
       "      <td>2011</td>\n",
       "      <td>Alabama</td>\n",
       "      <td>Cigarette Use among Adults</td>\n",
       "      <td>Age</td>\n",
       "      <td>Age 18-24</td>\n",
       "      <td>30.3</td>\n",
       "      <td>Age 25-44</td>\n",
       "      <td>28.1</td>\n",
       "      <td>1.1</td>\n",
       "    </tr>\n",
       "    <tr>\n",
       "      <th>1</th>\n",
       "      <td>2011</td>\n",
       "      <td>Alabama</td>\n",
       "      <td>Cigarette Use among Adults</td>\n",
       "      <td>Age</td>\n",
       "      <td>Age 18-24</td>\n",
       "      <td>30.3</td>\n",
       "      <td>Age 45-64</td>\n",
       "      <td>26.0</td>\n",
       "      <td>1.2</td>\n",
       "    </tr>\n",
       "    <tr>\n",
       "      <th>2</th>\n",
       "      <td>2011</td>\n",
       "      <td>Alabama</td>\n",
       "      <td>Cigarette Use among Adults</td>\n",
       "      <td>Age</td>\n",
       "      <td>Age 18-24</td>\n",
       "      <td>30.3</td>\n",
       "      <td>Age 65 or older</td>\n",
       "      <td>10.2</td>\n",
       "      <td>3.0</td>\n",
       "    </tr>\n",
       "    <tr>\n",
       "      <th>3</th>\n",
       "      <td>2011</td>\n",
       "      <td>Alabama</td>\n",
       "      <td>Cigarette Use among Adults</td>\n",
       "      <td>Age</td>\n",
       "      <td>Age 25-44</td>\n",
       "      <td>28.1</td>\n",
       "      <td>Age 18-24</td>\n",
       "      <td>30.3</td>\n",
       "      <td>0.9</td>\n",
       "    </tr>\n",
       "    <tr>\n",
       "      <th>4</th>\n",
       "      <td>2011</td>\n",
       "      <td>Alabama</td>\n",
       "      <td>Cigarette Use among Adults</td>\n",
       "      <td>Age</td>\n",
       "      <td>Age 25-44</td>\n",
       "      <td>28.1</td>\n",
       "      <td>Age 45-64</td>\n",
       "      <td>26.0</td>\n",
       "      <td>1.1</td>\n",
       "    </tr>\n",
       "    <tr>\n",
       "      <th>...</th>\n",
       "      <td>...</td>\n",
       "      <td>...</td>\n",
       "      <td>...</td>\n",
       "      <td>...</td>\n",
       "      <td>...</td>\n",
       "      <td>...</td>\n",
       "      <td>...</td>\n",
       "      <td>...</td>\n",
       "      <td>...</td>\n",
       "    </tr>\n",
       "    <tr>\n",
       "      <th>45283</th>\n",
       "      <td>2022</td>\n",
       "      <td>West Virginia</td>\n",
       "      <td>Cigarette Use among Adults</td>\n",
       "      <td>Urban-Rural</td>\n",
       "      <td>Urban</td>\n",
       "      <td>20.8</td>\n",
       "      <td>Rural</td>\n",
       "      <td>21.7</td>\n",
       "      <td>1.0</td>\n",
       "    </tr>\n",
       "    <tr>\n",
       "      <th>45284</th>\n",
       "      <td>2022</td>\n",
       "      <td>Wisconsin</td>\n",
       "      <td>Cigarette Use among Adults</td>\n",
       "      <td>Urban-Rural</td>\n",
       "      <td>Rural</td>\n",
       "      <td>17.1</td>\n",
       "      <td>Urban</td>\n",
       "      <td>13.7</td>\n",
       "      <td>1.2</td>\n",
       "    </tr>\n",
       "    <tr>\n",
       "      <th>45285</th>\n",
       "      <td>2022</td>\n",
       "      <td>Wisconsin</td>\n",
       "      <td>Cigarette Use among Adults</td>\n",
       "      <td>Urban-Rural</td>\n",
       "      <td>Urban</td>\n",
       "      <td>13.7</td>\n",
       "      <td>Rural</td>\n",
       "      <td>17.1</td>\n",
       "      <td>0.8</td>\n",
       "    </tr>\n",
       "    <tr>\n",
       "      <th>45286</th>\n",
       "      <td>2022</td>\n",
       "      <td>Wyoming</td>\n",
       "      <td>Cigarette Use among Adults</td>\n",
       "      <td>Urban-Rural</td>\n",
       "      <td>Rural</td>\n",
       "      <td>13.5</td>\n",
       "      <td>Urban</td>\n",
       "      <td>16.3</td>\n",
       "      <td>0.8</td>\n",
       "    </tr>\n",
       "    <tr>\n",
       "      <th>45287</th>\n",
       "      <td>2022</td>\n",
       "      <td>Wyoming</td>\n",
       "      <td>Cigarette Use among Adults</td>\n",
       "      <td>Urban-Rural</td>\n",
       "      <td>Urban</td>\n",
       "      <td>16.3</td>\n",
       "      <td>Rural</td>\n",
       "      <td>13.5</td>\n",
       "      <td>1.2</td>\n",
       "    </tr>\n",
       "  </tbody>\n",
       "</table>\n",
       "<p>45288 rows × 9 columns</p>\n",
       "</div>"
      ],
      "text/plain": [
       "       Year          State                 Tobacco Use  Demographic  \\\n",
       "0      2011        Alabama  Cigarette Use among Adults          Age   \n",
       "1      2011        Alabama  Cigarette Use among Adults          Age   \n",
       "2      2011        Alabama  Cigarette Use among Adults          Age   \n",
       "3      2011        Alabama  Cigarette Use among Adults          Age   \n",
       "4      2011        Alabama  Cigarette Use among Adults          Age   \n",
       "...     ...            ...                         ...          ...   \n",
       "45283  2022  West Virginia  Cigarette Use among Adults  Urban-Rural   \n",
       "45284  2022      Wisconsin  Cigarette Use among Adults  Urban-Rural   \n",
       "45285  2022      Wisconsin  Cigarette Use among Adults  Urban-Rural   \n",
       "45286  2022        Wyoming  Cigarette Use among Adults  Urban-Rural   \n",
       "45287  2022        Wyoming  Cigarette Use among Adults  Urban-Rural   \n",
       "\n",
       "      Comparing (Focus group) Cigarette Use Prevalence % (Focus group)  \\\n",
       "0                   Age 18-24                                     30.3   \n",
       "1                   Age 18-24                                     30.3   \n",
       "2                   Age 18-24                                     30.3   \n",
       "3                   Age 25-44                                     28.1   \n",
       "4                   Age 25-44                                     28.1   \n",
       "...                       ...                                      ...   \n",
       "45283                   Urban                                     20.8   \n",
       "45284                   Rural                                     17.1   \n",
       "45285                   Urban                                     13.7   \n",
       "45286                   Rural                                     13.5   \n",
       "45287                   Urban                                     16.3   \n",
       "\n",
       "      To (Reference group) Cigarette Use Prevalence % (Reference group)  \\\n",
       "0                Age 25-44                                         28.1   \n",
       "1                Age 45-64                                         26.0   \n",
       "2          Age 65 or older                                         10.2   \n",
       "3                Age 18-24                                         30.3   \n",
       "4                Age 45-64                                         26.0   \n",
       "...                    ...                                          ...   \n",
       "45283                Rural                                         21.7   \n",
       "45284                Urban                                         13.7   \n",
       "45285                Rural                                         17.1   \n",
       "45286                Urban                                         16.3   \n",
       "45287                Rural                                         13.5   \n",
       "\n",
       "      Disparity Value  \n",
       "0                 1.1  \n",
       "1                 1.2  \n",
       "2                 3.0  \n",
       "3                 0.9  \n",
       "4                 1.1  \n",
       "...               ...  \n",
       "45283             1.0  \n",
       "45284             1.2  \n",
       "45285             0.8  \n",
       "45286             0.8  \n",
       "45287             1.2  \n",
       "\n",
       "[45288 rows x 9 columns]"
      ]
     },
     "execution_count": 20,
     "metadata": {},
     "output_type": "execute_result"
    }
   ],
   "source": [
    "df"
   ]
  },
  {
   "cell_type": "code",
   "execution_count": 43,
   "id": "b206b02e-576d-4b06-b513-3145dd4efe93",
   "metadata": {},
   "outputs": [],
   "source": [
    "df['Cigarette Use Prevalence % (Focus group)'] = pd.to_numeric(df['Cigarette Use Prevalence % (Focus group)'], errors='coerce')"
   ]
  },
  {
   "cell_type": "code",
   "execution_count": 44,
   "id": "9472c046-ba4a-49d5-907d-d001f52df21d",
   "metadata": {},
   "outputs": [],
   "source": [
    "df['Cigarette Use Prevalence % (Reference group)'] = pd.to_numeric(df['Cigarette Use Prevalence % (Reference group)'], errors='coerce')"
   ]
  },
  {
   "cell_type": "code",
   "execution_count": 45,
   "id": "aa167ffb-0369-42f3-befe-645fcebd4093",
   "metadata": {},
   "outputs": [],
   "source": [
    "age_data = df[df['Demographic'] == 'Age']"
   ]
  },
  {
   "cell_type": "code",
   "execution_count": 46,
   "id": "0b90e262-9e10-4c18-955a-c9848f299614",
   "metadata": {},
   "outputs": [],
   "source": [
    "merged_data = age_data.groupby('Comparing (Focus group)')['Cigarette Use Prevalence % (Focus group)'].agg('mean').reset_index()"
   ]
  },
  {
   "cell_type": "code",
   "execution_count": 47,
   "id": "48a7735c-0904-41bf-b958-6f6856fddd3b",
   "metadata": {},
   "outputs": [],
   "source": [
    "merged_data2 = age_data.groupby('To (Reference group)')['Cigarette Use Prevalence % (Reference group)'].agg('mean').reset_index()"
   ]
  },
  {
   "cell_type": "code",
   "execution_count": 48,
   "id": "5d73832b-471c-4d09-95b9-b12a9cd1fb8f",
   "metadata": {},
   "outputs": [],
   "source": [
    "merged_data.rename(columns={'Cigarette Use Prevalence % (Focus group)': 'Average Cigarette Use Prevalence %'}, inplace=True)"
   ]
  },
  {
   "cell_type": "code",
   "execution_count": 49,
   "id": "c129a870-454e-4909-8600-16014159281c",
   "metadata": {},
   "outputs": [],
   "source": [
    "merged_data2.rename(columns={'Cigarette Use Prevalence % (Focus group)': 'Average Cigarette Use Prevalence %'}, inplace=True)"
   ]
  },
  {
   "cell_type": "code",
   "execution_count": 51,
   "id": "0ca42792-e97a-4184-b8e9-a9dce9093401",
   "metadata": {},
   "outputs": [
    {
     "data": {
      "text/html": [
       "<div>\n",
       "<style scoped>\n",
       "    .dataframe tbody tr th:only-of-type {\n",
       "        vertical-align: middle;\n",
       "    }\n",
       "\n",
       "    .dataframe tbody tr th {\n",
       "        vertical-align: top;\n",
       "    }\n",
       "\n",
       "    .dataframe thead th {\n",
       "        text-align: right;\n",
       "    }\n",
       "</style>\n",
       "<table border=\"1\" class=\"dataframe\">\n",
       "  <thead>\n",
       "    <tr style=\"text-align: right;\">\n",
       "      <th></th>\n",
       "      <th>To (Reference group)</th>\n",
       "      <th>Cigarette Use Prevalence % (Reference group)</th>\n",
       "    </tr>\n",
       "  </thead>\n",
       "  <tbody>\n",
       "    <tr>\n",
       "      <th>0</th>\n",
       "      <td>Age 18-24</td>\n",
       "      <td>15.235434</td>\n",
       "    </tr>\n",
       "    <tr>\n",
       "      <th>1</th>\n",
       "      <td>Age 25-44</td>\n",
       "      <td>21.588852</td>\n",
       "    </tr>\n",
       "    <tr>\n",
       "      <th>2</th>\n",
       "      <td>Age 45-64</td>\n",
       "      <td>19.049180</td>\n",
       "    </tr>\n",
       "    <tr>\n",
       "      <th>3</th>\n",
       "      <td>Age 65 or older</td>\n",
       "      <td>9.146885</td>\n",
       "    </tr>\n",
       "  </tbody>\n",
       "</table>\n",
       "</div>"
      ],
      "text/plain": [
       "  To (Reference group)  Cigarette Use Prevalence % (Reference group)\n",
       "0            Age 18-24                                     15.235434\n",
       "1            Age 25-44                                     21.588852\n",
       "2            Age 45-64                                     19.049180\n",
       "3      Age 65 or older                                      9.146885"
      ]
     },
     "execution_count": 51,
     "metadata": {},
     "output_type": "execute_result"
    }
   ],
   "source": [
    "merged_data2"
   ]
  },
  {
   "cell_type": "code",
   "execution_count": 31,
   "id": "857537ca-55fb-4df8-a3ac-568a785d70c2",
   "metadata": {},
   "outputs": [
    {
     "name": "stdout",
     "output_type": "stream",
     "text": [
      "<class 'pandas.core.frame.DataFrame'>\n",
      "Index: 7344 entries, 0 to 7343\n",
      "Data columns (total 4 columns):\n",
      " #   Column                                        Non-Null Count  Dtype \n",
      "---  ------                                        --------------  ----- \n",
      " 0   Comparing (Focus group)                       7344 non-null   object\n",
      " 1   Cigarette Use Prevalence % (Focus group)      7344 non-null   object\n",
      " 2   To (Reference group)                          7344 non-null   object\n",
      " 3   Cigarette Use Prevalence % (Reference group)  7344 non-null   object\n",
      "dtypes: object(4)\n",
      "memory usage: 286.9+ KB\n"
     ]
    }
   ],
   "source": [
    "new_table.info()"
   ]
  },
  {
   "cell_type": "code",
   "execution_count": 52,
   "id": "5e20a6ea-d1f5-421f-97e1-44b8f8b49e62",
   "metadata": {},
   "outputs": [],
   "source": [
    "# Export the new DataFrame to a CSV file\n",
    "merged_data2.to_csv('Reference_group.csv', index=False)\n",
    "merged_data.to_csv('Focus_group.csv', index=False)"
   ]
  },
  {
   "cell_type": "code",
   "execution_count": null,
   "id": "3efed8ab-b0f7-4de6-b62d-b7a92fcc1928",
   "metadata": {},
   "outputs": [],
   "source": []
  }
 ],
 "metadata": {
  "kernelspec": {
   "display_name": "Python 3 (ipykernel)",
   "language": "python",
   "name": "python3"
  },
  "language_info": {
   "codemirror_mode": {
    "name": "ipython",
    "version": 3
   },
   "file_extension": ".py",
   "mimetype": "text/x-python",
   "name": "python",
   "nbconvert_exporter": "python",
   "pygments_lexer": "ipython3",
   "version": "3.11.7"
  }
 },
 "nbformat": 4,
 "nbformat_minor": 5
}
