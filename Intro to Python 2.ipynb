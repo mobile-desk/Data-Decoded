{
 "cells": [
  {
   "cell_type": "code",
   "execution_count": 18,
   "id": "ece5ddc6-a810-4de4-88ae-35f68124cca0",
   "metadata": {},
   "outputs": [],
   "source": [
    "# Donate to Data Decoded [https://flutterwave.com/donate/owbkr5asntut]"
   ]
  },
  {
   "cell_type": "markdown",
   "id": "d2a17114-8902-4c01-b7ff-e883d656b329",
   "metadata": {},
   "source": [
    "# Control Flow"
   ]
  },
  {
   "cell_type": "markdown",
   "id": "8606a914-0967-48ca-8109-85c168dbadcd",
   "metadata": {
    "jp-MarkdownHeadingCollapsed": true
   },
   "source": [
    "## Conditionals"
   ]
  },
  {
   "cell_type": "code",
   "execution_count": 3,
   "id": "edb35407-d25d-4af4-af22-20d580a35327",
   "metadata": {},
   "outputs": [
    {
     "name": "stdout",
     "output_type": "stream",
     "text": [
      "its not\n"
     ]
    }
   ],
   "source": [
    "# If statement\n",
    "a = 4909\n",
    "b = 55\n",
    "if b > a:\n",
    "    print(\"b is greater than a\")\n",
    "else:\n",
    "    print('its not')"
   ]
  },
  {
   "cell_type": "code",
   "execution_count": 4,
   "id": "824919da-407b-4085-b3cb-b6b76dc5298c",
   "metadata": {},
   "outputs": [
    {
     "name": "stdout",
     "output_type": "stream",
     "text": [
      "a is greater than b\n"
     ]
    }
   ],
   "source": [
    "# Elif statement \n",
    "a = 455\n",
    "b = 55\n",
    "if b > a:\n",
    "  print(\"b is greater than a\")\n",
    "elif a > b:\n",
    "    print(\"a is greater than b\")\n",
    "else:\n",
    "    print('its equal')"
   ]
  },
  {
   "cell_type": "markdown",
   "id": "a6896838-07f4-41da-ab0e-0c1f5abd9388",
   "metadata": {},
   "source": [
    "## Loops "
   ]
  },
  {
   "cell_type": "markdown",
   "id": "4ffce7ab-33d9-47e2-8d65-6293b5f0529d",
   "metadata": {},
   "source": [
    "### while"
   ]
  },
  {
   "cell_type": "code",
   "execution_count": 5,
   "id": "3ccc6085-05bf-4ca8-86c5-d4b558dc9fa2",
   "metadata": {},
   "outputs": [
    {
     "name": "stdout",
     "output_type": "stream",
     "text": [
      "1\n",
      "2\n",
      "3\n",
      "4\n",
      "5\n"
     ]
    }
   ],
   "source": [
    "i = 1\n",
    "while i < 6:\n",
    "    print(i)\n",
    "    i += 1"
   ]
  },
  {
   "cell_type": "markdown",
   "id": "6104beb4-f1b8-40ec-b4f9-6ce9f98ea3ec",
   "metadata": {},
   "source": [
    "### for"
   ]
  },
  {
   "cell_type": "code",
   "execution_count": 6,
   "id": "fd7fde6d-0f4d-4cfc-822f-5b1e335de0de",
   "metadata": {},
   "outputs": [
    {
     "name": "stdout",
     "output_type": "stream",
     "text": [
      "apple\n",
      "banana\n",
      "cherry\n"
     ]
    }
   ],
   "source": [
    "fruits = [\"apple\", \"banana\", \"cherry\"]\n",
    "for x in fruits:\n",
    "    print(x)"
   ]
  },
  {
   "cell_type": "markdown",
   "id": "760995a2-93e7-41ac-a353-a2e93131babd",
   "metadata": {},
   "source": [
    "# Functions"
   ]
  },
  {
   "cell_type": "code",
   "execution_count": 9,
   "id": "252fce11-cd2a-4686-a324-a63f93a62156",
   "metadata": {},
   "outputs": [
    {
     "name": "stdout",
     "output_type": "stream",
     "text": [
      "Good Morning\n"
     ]
    }
   ],
   "source": [
    "def greet():\n",
    "  print(\"Good Morning\")\n",
    "\n",
    "greet()"
   ]
  },
  {
   "cell_type": "code",
   "execution_count": 11,
   "id": "3545bf84-c8cb-4ac6-9f61-ab35938bfb01",
   "metadata": {},
   "outputs": [
    {
     "name": "stdout",
     "output_type": "stream",
     "text": [
      "5\n"
     ]
    }
   ],
   "source": [
    "def add(a,b):\n",
    "  print(a + b)\n",
    "\n",
    "add(2,3)"
   ]
  },
  {
   "cell_type": "markdown",
   "id": "946c1cc3-4ea7-4973-9cb8-a2bd666a28b1",
   "metadata": {},
   "source": [
    "# Modules"
   ]
  },
  {
   "cell_type": "code",
   "execution_count": 17,
   "id": "ef32ed3d-09bd-43e6-8c6f-3d4b0a2e5d01",
   "metadata": {},
   "outputs": [
    {
     "name": "stdout",
     "output_type": "stream",
     "text": [
      "8.0\n"
     ]
    }
   ],
   "source": [
    "from math import sqrt\n",
    "\n",
    "\n",
    "x = sqrt(64)\n",
    "\n",
    "print(x)"
   ]
  },
  {
   "cell_type": "code",
   "execution_count": null,
   "id": "b03671ba-498c-4bf8-8024-4dd9e4b10edd",
   "metadata": {},
   "outputs": [],
   "source": []
  }
 ],
 "metadata": {
  "kernelspec": {
   "display_name": "Python 3 (ipykernel)",
   "language": "python",
   "name": "python3"
  },
  "language_info": {
   "codemirror_mode": {
    "name": "ipython",
    "version": 3
   },
   "file_extension": ".py",
   "mimetype": "text/x-python",
   "name": "python",
   "nbconvert_exporter": "python",
   "pygments_lexer": "ipython3",
   "version": "3.11.7"
  }
 },
 "nbformat": 4,
 "nbformat_minor": 5
}
