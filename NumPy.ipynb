{
 "cells": [
  {
   "cell_type": "code",
   "execution_count": 1,
   "id": "8bb33201-b459-483d-9d3a-261ecf239293",
   "metadata": {},
   "outputs": [],
   "source": [
    "# NumPy is a multi dimensional array library used for numerical computing"
   ]
  },
  {
   "cell_type": "markdown",
   "id": "17a96a6f-c195-45c5-a951-3f99898d1add",
   "metadata": {
    "jp-MarkdownHeadingCollapsed": true
   },
   "source": [
    "# memory size"
   ]
  },
  {
   "cell_type": "code",
   "execution_count": 2,
   "id": "e9e0e662-9176-4e42-8294-f3cb8e4bf280",
   "metadata": {},
   "outputs": [],
   "source": [
    "# 8 bits = 1 byte = 00000000\n",
    "# 16 bits = 2 bytes = 00000000 00000000\n",
    "# 32 bits = 4 bytes = 00000000 00000000 00000000 00000000"
   ]
  },
  {
   "cell_type": "markdown",
   "id": "1ddc36f0-c2c7-42ff-ac74-c2f7c86d075e",
   "metadata": {
    "jp-MarkdownHeadingCollapsed": true
   },
   "source": [
    "# Install NumPy"
   ]
  },
  {
   "cell_type": "code",
   "execution_count": 3,
   "id": "cc46b620-d370-492f-af99-fbd3575d1aeb",
   "metadata": {},
   "outputs": [],
   "source": [
    "# pip install numpy"
   ]
  },
  {
   "cell_type": "markdown",
   "id": "31e33651-51d7-4ecf-a627-c7b64819eea4",
   "metadata": {
    "jp-MarkdownHeadingCollapsed": true
   },
   "source": [
    "# Import NumPy"
   ]
  },
  {
   "cell_type": "code",
   "execution_count": 4,
   "id": "12482582-d0dc-4ef4-a3c4-059f6f91a17e",
   "metadata": {},
   "outputs": [],
   "source": [
    "import numpy as np"
   ]
  },
  {
   "cell_type": "markdown",
   "id": "b0a3cb2a-35d7-40dc-819f-6252744daaff",
   "metadata": {
    "jp-MarkdownHeadingCollapsed": true
   },
   "source": [
    "# Initializing an array"
   ]
  },
  {
   "cell_type": "markdown",
   "id": "449df96f-a045-4c87-96fa-8aa6bf987770",
   "metadata": {
    "jp-MarkdownHeadingCollapsed": true
   },
   "source": [
    "## 1d"
   ]
  },
  {
   "cell_type": "code",
   "execution_count": 5,
   "id": "1b52a195-ffd6-41e8-9a0e-c4b46facd4d1",
   "metadata": {},
   "outputs": [
    {
     "data": {
      "text/plain": [
       "array([1, 2, 3, 4])"
      ]
     },
     "execution_count": 5,
     "metadata": {},
     "output_type": "execute_result"
    }
   ],
   "source": [
    "a = np.array([1,2,3,4])\n",
    "a"
   ]
  },
  {
   "cell_type": "markdown",
   "id": "9fa869e0-72e1-47c4-b21d-1561ca1def4b",
   "metadata": {
    "jp-MarkdownHeadingCollapsed": true
   },
   "source": [
    "## 2d"
   ]
  },
  {
   "cell_type": "code",
   "execution_count": 6,
   "id": "f304459f-3f17-4b4d-b89d-af14e47feae4",
   "metadata": {},
   "outputs": [
    {
     "data": {
      "text/plain": [
       "array([[1, 2, 3],\n",
       "       [4, 5, 6]])"
      ]
     },
     "execution_count": 6,
     "metadata": {},
     "output_type": "execute_result"
    }
   ],
   "source": [
    "b = np.array([[1,2,3], [4,5,6]])\n",
    "b"
   ]
  },
  {
   "cell_type": "markdown",
   "id": "fff69da4-ec6b-4301-ba93-1415197e0438",
   "metadata": {
    "jp-MarkdownHeadingCollapsed": true
   },
   "source": [
    "## 3d"
   ]
  },
  {
   "cell_type": "code",
   "execution_count": 7,
   "id": "168f6b80-0ea8-49a0-9fcc-f3b7ad532861",
   "metadata": {},
   "outputs": [
    {
     "data": {
      "text/plain": [
       "array([[[ 1,  2,  3],\n",
       "        [ 4,  5,  6]],\n",
       "\n",
       "       [[ 7,  8,  9],\n",
       "        [10, 11, 12]]])"
      ]
     },
     "execution_count": 7,
     "metadata": {},
     "output_type": "execute_result"
    }
   ],
   "source": [
    "c = np.array([[[1,2,3], [4,5,6]], [[7,8,9], [10, 11, 12]]])\n",
    "c"
   ]
  },
  {
   "cell_type": "markdown",
   "id": "bb128691-24fd-4e92-9678-6b8c4a1b29d2",
   "metadata": {
    "jp-MarkdownHeadingCollapsed": true
   },
   "source": [
    "## specify data type"
   ]
  },
  {
   "cell_type": "code",
   "execution_count": 15,
   "id": "84f17e16-2df0-40da-90c1-cbc9fcb49399",
   "metadata": {},
   "outputs": [],
   "source": [
    "a = np.array([1,2,3], dtype='int16')"
   ]
  },
  {
   "cell_type": "markdown",
   "id": "e85a6c4a-5fab-4518-a211-427e7bd20b05",
   "metadata": {
    "jp-MarkdownHeadingCollapsed": true
   },
   "source": [
    "# Visualization"
   ]
  },
  {
   "cell_type": "markdown",
   "id": "070d60ef-83e3-44a5-b9c2-68b55a87a2e1",
   "metadata": {
    "jp-MarkdownHeadingCollapsed": true
   },
   "source": [
    "## Get the dimension"
   ]
  },
  {
   "cell_type": "code",
   "execution_count": 8,
   "id": "7d40cb1c-3af7-4e5b-b2cd-bbd764926e1b",
   "metadata": {},
   "outputs": [
    {
     "data": {
      "text/plain": [
       "1"
      ]
     },
     "execution_count": 8,
     "metadata": {},
     "output_type": "execute_result"
    }
   ],
   "source": [
    "a.ndim"
   ]
  },
  {
   "cell_type": "code",
   "execution_count": 9,
   "id": "371bc5cf-8a8b-429b-b8a4-359b3961819a",
   "metadata": {},
   "outputs": [
    {
     "data": {
      "text/plain": [
       "2"
      ]
     },
     "execution_count": 9,
     "metadata": {},
     "output_type": "execute_result"
    }
   ],
   "source": [
    "b.ndim"
   ]
  },
  {
   "cell_type": "code",
   "execution_count": 10,
   "id": "cc13bb07-1d32-4739-a3e5-743a1309963d",
   "metadata": {},
   "outputs": [
    {
     "data": {
      "text/plain": [
       "3"
      ]
     },
     "execution_count": 10,
     "metadata": {},
     "output_type": "execute_result"
    }
   ],
   "source": [
    "c.ndim"
   ]
  },
  {
   "cell_type": "markdown",
   "id": "5dabe902-7ae1-4e12-b19d-6e4e716647bd",
   "metadata": {
    "jp-MarkdownHeadingCollapsed": true
   },
   "source": [
    "## Get the shape"
   ]
  },
  {
   "cell_type": "code",
   "execution_count": 11,
   "id": "df75b3ea-ed2c-4ae2-ba95-eb27c586a788",
   "metadata": {},
   "outputs": [
    {
     "data": {
      "text/plain": [
       "(4,)"
      ]
     },
     "execution_count": 11,
     "metadata": {},
     "output_type": "execute_result"
    }
   ],
   "source": [
    "a.shape"
   ]
  },
  {
   "cell_type": "code",
   "execution_count": 12,
   "id": "a92358dd-e223-4190-91e7-bcbe2ee0da07",
   "metadata": {},
   "outputs": [
    {
     "data": {
      "text/plain": [
       "(2, 3)"
      ]
     },
     "execution_count": 12,
     "metadata": {},
     "output_type": "execute_result"
    }
   ],
   "source": [
    "b.shape"
   ]
  },
  {
   "cell_type": "code",
   "execution_count": 13,
   "id": "3953867c-f39b-43e1-a31f-0f4c4b9d31b3",
   "metadata": {},
   "outputs": [
    {
     "data": {
      "text/plain": [
       "(2, 2, 3)"
      ]
     },
     "execution_count": 13,
     "metadata": {},
     "output_type": "execute_result"
    }
   ],
   "source": [
    "c.shape"
   ]
  },
  {
   "cell_type": "markdown",
   "id": "3b173bea-78d2-4c29-9c7d-19f628776f3e",
   "metadata": {
    "jp-MarkdownHeadingCollapsed": true
   },
   "source": [
    "## Get the data type and memory size"
   ]
  },
  {
   "cell_type": "code",
   "execution_count": 14,
   "id": "609c2bde-cb39-4f1b-a106-0facc94cbcc1",
   "metadata": {},
   "outputs": [
    {
     "data": {
      "text/plain": [
       "dtype('int32')"
      ]
     },
     "execution_count": 14,
     "metadata": {},
     "output_type": "execute_result"
    }
   ],
   "source": [
    "a.dtype"
   ]
  },
  {
   "cell_type": "markdown",
   "id": "fcf2cdba-ae3b-4ae9-b314-fe508192bb64",
   "metadata": {
    "jp-MarkdownHeadingCollapsed": true
   },
   "source": [
    "## Get the size in bytes"
   ]
  },
  {
   "cell_type": "code",
   "execution_count": 16,
   "id": "ebc45973-eb61-43c3-b8b1-44ed1cd13ee3",
   "metadata": {},
   "outputs": [
    {
     "data": {
      "text/plain": [
       "2"
      ]
     },
     "execution_count": 16,
     "metadata": {},
     "output_type": "execute_result"
    }
   ],
   "source": [
    "a.itemsize"
   ]
  },
  {
   "cell_type": "markdown",
   "id": "83cfb5d5-66f5-43c8-94ef-f84db72260ff",
   "metadata": {
    "jp-MarkdownHeadingCollapsed": true
   },
   "source": [
    "## get the total elements"
   ]
  },
  {
   "cell_type": "code",
   "execution_count": 17,
   "id": "0c753f36-d136-4e40-924f-71e570480bb4",
   "metadata": {},
   "outputs": [
    {
     "data": {
      "text/plain": [
       "3"
      ]
     },
     "execution_count": 17,
     "metadata": {},
     "output_type": "execute_result"
    }
   ],
   "source": [
    "a.size"
   ]
  },
  {
   "cell_type": "markdown",
   "id": "0adcf289-83da-4119-98e0-450e4d481cce",
   "metadata": {
    "jp-MarkdownHeadingCollapsed": true
   },
   "source": [
    "## Get the total no of bytes"
   ]
  },
  {
   "cell_type": "markdown",
   "id": "37cf5e22-7ba1-462a-bad3-ca71be704230",
   "metadata": {
    "jp-MarkdownHeadingCollapsed": true
   },
   "source": [
    "### formula"
   ]
  },
  {
   "cell_type": "code",
   "execution_count": 18,
   "id": "df7d1dee-18a4-4f45-bacf-319c6c764487",
   "metadata": {},
   "outputs": [
    {
     "data": {
      "text/plain": [
       "6"
      ]
     },
     "execution_count": 18,
     "metadata": {},
     "output_type": "execute_result"
    }
   ],
   "source": [
    "a.size * a.itemsize"
   ]
  },
  {
   "cell_type": "markdown",
   "id": "db490be2-21d1-436c-b947-69c13720a1a8",
   "metadata": {},
   "source": [
    "### command"
   ]
  },
  {
   "cell_type": "code",
   "execution_count": 19,
   "id": "1821ad1b-89d3-4496-9124-14a9012dc7a5",
   "metadata": {},
   "outputs": [
    {
     "data": {
      "text/plain": [
       "6"
      ]
     },
     "execution_count": 19,
     "metadata": {},
     "output_type": "execute_result"
    }
   ],
   "source": [
    "a.nbytes"
   ]
  },
  {
   "cell_type": "markdown",
   "id": "e30bf965-2fe0-4027-b013-a1bd36fc6dd7",
   "metadata": {
    "jp-MarkdownHeadingCollapsed": true
   },
   "source": [
    "# Modifiying Elements"
   ]
  },
  {
   "cell_type": "markdown",
   "id": "ee6db807-c7f7-4668-af8f-4e295101eff0",
   "metadata": {
    "jp-MarkdownHeadingCollapsed": true
   },
   "source": [
    "## Getting at a specific index"
   ]
  },
  {
   "cell_type": "code",
   "execution_count": 20,
   "id": "f3803a09-7603-409e-8e9a-370b63d93ffc",
   "metadata": {},
   "outputs": [],
   "source": [
    "# a[r,c]"
   ]
  },
  {
   "cell_type": "markdown",
   "id": "0d67418c-5c36-4372-8010-dd0b47deb083",
   "metadata": {
    "jp-MarkdownHeadingCollapsed": true
   },
   "source": [
    "## getting a full row / column"
   ]
  },
  {
   "cell_type": "markdown",
   "id": "d377fc19-dd21-4e55-b17f-91437314f682",
   "metadata": {},
   "source": [
    "### row"
   ]
  },
  {
   "cell_type": "code",
   "execution_count": 21,
   "id": "d90a005a-9ce2-405c-b734-42f4f15f2740",
   "metadata": {},
   "outputs": [
    {
     "data": {
      "text/plain": [
       "array([1, 2, 3])"
      ]
     },
     "execution_count": 21,
     "metadata": {},
     "output_type": "execute_result"
    }
   ],
   "source": [
    "b[0, :]"
   ]
  },
  {
   "cell_type": "markdown",
   "id": "b50b9886-7d26-4153-8bce-a8daa021244d",
   "metadata": {},
   "source": [
    "### column"
   ]
  },
  {
   "cell_type": "code",
   "execution_count": 22,
   "id": "f65c2942-f578-4c91-ba3d-04a57e88e338",
   "metadata": {},
   "outputs": [
    {
     "data": {
      "text/plain": [
       "array([2, 5])"
      ]
     },
     "execution_count": 22,
     "metadata": {},
     "output_type": "execute_result"
    }
   ],
   "source": [
    "b[:, 1]"
   ]
  },
  {
   "cell_type": "markdown",
   "id": "df8fac3b-622d-42a2-bbc0-a3823c1db9db",
   "metadata": {
    "jp-MarkdownHeadingCollapsed": true
   },
   "source": [
    "## changing values"
   ]
  },
  {
   "cell_type": "code",
   "execution_count": 24,
   "id": "da19569f-865d-47ef-8a9d-358105beb568",
   "metadata": {},
   "outputs": [
    {
     "data": {
      "text/plain": [
       "array([[1, 2, 3],\n",
       "       [4, 5, 6]])"
      ]
     },
     "execution_count": 24,
     "metadata": {},
     "output_type": "execute_result"
    }
   ],
   "source": [
    "b"
   ]
  },
  {
   "cell_type": "code",
   "execution_count": 27,
   "id": "0f265609-e0dc-496b-8e72-86ca7ece346f",
   "metadata": {},
   "outputs": [
    {
     "data": {
      "text/plain": [
       "array([[ 1,  2,  3],\n",
       "       [44,  5,  6]])"
      ]
     },
     "execution_count": 27,
     "metadata": {},
     "output_type": "execute_result"
    }
   ],
   "source": [
    "# changing 4 to 44\n",
    "b[1,0] = 44\n",
    "\n",
    "b"
   ]
  },
  {
   "cell_type": "markdown",
   "id": "9e7ed23b-c072-407c-bf28-8a3dd9eff556",
   "metadata": {
    "jp-MarkdownHeadingCollapsed": true
   },
   "source": [
    "# Initializing Diff Types of Arrays"
   ]
  },
  {
   "cell_type": "markdown",
   "id": "34b9f3d2-53f0-4791-bb09-0eae4c7e650b",
   "metadata": {
    "jp-MarkdownHeadingCollapsed": true
   },
   "source": [
    "## All zeros"
   ]
  },
  {
   "cell_type": "code",
   "execution_count": 31,
   "id": "bdb47434-aca8-4e8e-abcc-8e629ccd8015",
   "metadata": {},
   "outputs": [
    {
     "data": {
      "text/plain": [
       "array([[0., 0., 0.],\n",
       "       [0., 0., 0.],\n",
       "       [0., 0., 0.],\n",
       "       [0., 0., 0.],\n",
       "       [0., 0., 0.]])"
      ]
     },
     "execution_count": 31,
     "metadata": {},
     "output_type": "execute_result"
    }
   ],
   "source": [
    "d = np.zeros((5,3))\n",
    "d"
   ]
  },
  {
   "cell_type": "markdown",
   "id": "6e62b8ee-71f3-41a0-ad89-01d7e935045c",
   "metadata": {
    "jp-MarkdownHeadingCollapsed": true
   },
   "source": [
    "## All ones"
   ]
  },
  {
   "cell_type": "code",
   "execution_count": 32,
   "id": "9769eb14-b4c3-4088-9426-1694007f2085",
   "metadata": {},
   "outputs": [
    {
     "data": {
      "text/plain": [
       "array([[1., 1., 1.],\n",
       "       [1., 1., 1.],\n",
       "       [1., 1., 1.]])"
      ]
     },
     "execution_count": 32,
     "metadata": {},
     "output_type": "execute_result"
    }
   ],
   "source": [
    "d = np.ones((3,3))\n",
    "d"
   ]
  },
  {
   "cell_type": "markdown",
   "id": "648c908a-a9cf-4d2d-80a5-493225e3a7a0",
   "metadata": {
    "jp-MarkdownHeadingCollapsed": true
   },
   "source": [
    "## All a specific number"
   ]
  },
  {
   "cell_type": "code",
   "execution_count": 33,
   "id": "290c869c-92aa-4e7e-ac07-b95f9925e6e4",
   "metadata": {},
   "outputs": [
    {
     "data": {
      "text/plain": [
       "array([[10, 10, 10],\n",
       "       [10, 10, 10],\n",
       "       [10, 10, 10]])"
      ]
     },
     "execution_count": 33,
     "metadata": {},
     "output_type": "execute_result"
    }
   ],
   "source": [
    "d = np.full((3,3), 10)\n",
    "d"
   ]
  },
  {
   "cell_type": "markdown",
   "id": "25887341-4f45-4d0b-a9c7-2fd6a09d851a",
   "metadata": {},
   "source": [
    "### use shape of an already existing array"
   ]
  },
  {
   "cell_type": "code",
   "execution_count": 36,
   "id": "1c0e5508-c0f0-419e-ad7b-637c9142fc1b",
   "metadata": {},
   "outputs": [
    {
     "data": {
      "text/plain": [
       "array([10, 10, 10], dtype=int16)"
      ]
     },
     "execution_count": 36,
     "metadata": {},
     "output_type": "execute_result"
    }
   ],
   "source": [
    "np.full_like(a,10)\n"
   ]
  },
  {
   "cell_type": "code",
   "execution_count": 37,
   "id": "32fee6f2-7372-4cde-b051-264c3e598035",
   "metadata": {},
   "outputs": [
    {
     "data": {
      "text/plain": [
       "array([10, 10, 10])"
      ]
     },
     "execution_count": 37,
     "metadata": {},
     "output_type": "execute_result"
    }
   ],
   "source": [
    "np.full(a.shape, 10)"
   ]
  },
  {
   "cell_type": "markdown",
   "id": "22f0e999-bc06-406c-800a-04f19e5de982",
   "metadata": {
    "jp-MarkdownHeadingCollapsed": true
   },
   "source": [
    "## Generating Random Decimal"
   ]
  },
  {
   "cell_type": "code",
   "execution_count": 38,
   "id": "f0577581-d413-4f61-8553-5468e0b350c9",
   "metadata": {},
   "outputs": [
    {
     "data": {
      "text/plain": [
       "array([[0.10356392, 0.61088536],\n",
       "       [0.72111861, 0.51614485]])"
      ]
     },
     "execution_count": 38,
     "metadata": {},
     "output_type": "execute_result"
    }
   ],
   "source": [
    "np.random.rand(2,2)"
   ]
  },
  {
   "cell_type": "code",
   "execution_count": 39,
   "id": "01c14432-0f18-4f7b-a400-e351a58e88d0",
   "metadata": {},
   "outputs": [
    {
     "data": {
      "text/plain": [
       "array([0.22418586, 0.90908545, 0.03424359])"
      ]
     },
     "execution_count": 39,
     "metadata": {},
     "output_type": "execute_result"
    }
   ],
   "source": [
    "np.random.random_sample(a.shape)"
   ]
  },
  {
   "cell_type": "markdown",
   "id": "27934260-ffb1-46b2-840e-d3814140d90e",
   "metadata": {
    "jp-MarkdownHeadingCollapsed": true
   },
   "source": [
    "## Generating Identity Matrix"
   ]
  },
  {
   "cell_type": "code",
   "execution_count": 40,
   "id": "e066d2e7-dd95-4102-bac7-5707de4404a7",
   "metadata": {},
   "outputs": [
    {
     "data": {
      "text/plain": [
       "array([[1., 0., 0., 0.],\n",
       "       [0., 1., 0., 0.],\n",
       "       [0., 0., 1., 0.],\n",
       "       [0., 0., 0., 1.]])"
      ]
     },
     "execution_count": 40,
     "metadata": {},
     "output_type": "execute_result"
    }
   ],
   "source": [
    "# i.e a square matrix with ones on the main diagonal and zeros else where\n",
    "np.identity(4)"
   ]
  },
  {
   "cell_type": "markdown",
   "id": "08eb272f-21da-4b3e-9e3a-3534c1f2f047",
   "metadata": {
    "jp-MarkdownHeadingCollapsed": true
   },
   "source": [
    "## repeat an array"
   ]
  },
  {
   "cell_type": "code",
   "execution_count": 44,
   "id": "180fbb1c-bbd3-40e4-aa61-0e97e15bf2b0",
   "metadata": {},
   "outputs": [
    {
     "data": {
      "text/plain": [
       "array([[ 1,  2,  3],\n",
       "       [44,  5,  6]])"
      ]
     },
     "execution_count": 44,
     "metadata": {},
     "output_type": "execute_result"
    }
   ],
   "source": [
    "b"
   ]
  },
  {
   "cell_type": "code",
   "execution_count": 45,
   "id": "ecf23dc6-729c-44c9-af6b-9e885189ade0",
   "metadata": {},
   "outputs": [
    {
     "data": {
      "text/plain": [
       "array([[ 1,  2,  3],\n",
       "       [ 1,  2,  3],\n",
       "       [ 1,  2,  3],\n",
       "       [44,  5,  6],\n",
       "       [44,  5,  6],\n",
       "       [44,  5,  6]])"
      ]
     },
     "execution_count": 45,
     "metadata": {},
     "output_type": "execute_result"
    }
   ],
   "source": [
    "np.repeat(b, 3, axis=0)"
   ]
  },
  {
   "cell_type": "code",
   "execution_count": 46,
   "id": "921399b5-727c-4ee0-9f55-8bcb2fbff240",
   "metadata": {},
   "outputs": [
    {
     "data": {
      "text/plain": [
       "array([[ 1,  1,  1,  2,  2,  2,  3,  3,  3],\n",
       "       [44, 44, 44,  5,  5,  5,  6,  6,  6]])"
      ]
     },
     "execution_count": 46,
     "metadata": {},
     "output_type": "execute_result"
    }
   ],
   "source": [
    "np.repeat(b ,3, axis=1)"
   ]
  },
  {
   "cell_type": "markdown",
   "id": "9c2a523b-1f31-4bcb-a9bb-b644adbd70bd",
   "metadata": {
    "jp-MarkdownHeadingCollapsed": true
   },
   "source": [
    "# Maths"
   ]
  },
  {
   "cell_type": "markdown",
   "id": "58e5df22-6764-49af-9bec-4c5940de85f3",
   "metadata": {},
   "source": [
    "## Basic Arithmetic"
   ]
  },
  {
   "cell_type": "code",
   "execution_count": 47,
   "id": "66486faf-9907-4477-95e9-046fc40fbe2d",
   "metadata": {},
   "outputs": [
    {
     "data": {
      "text/plain": [
       "array([[ 3,  4,  5],\n",
       "       [46,  7,  8]])"
      ]
     },
     "execution_count": 47,
     "metadata": {},
     "output_type": "execute_result"
    }
   ],
   "source": [
    "b + 2"
   ]
  },
  {
   "cell_type": "markdown",
   "id": "6b5af1c9-616d-48b7-a279-1532903fb5b8",
   "metadata": {},
   "source": [
    "## matric to matric"
   ]
  },
  {
   "cell_type": "code",
   "execution_count": 48,
   "id": "d017c46a-7fb4-49fe-b4d6-37c6bc94b20c",
   "metadata": {},
   "outputs": [
    {
     "data": {
      "text/plain": [
       "array([[ 8, 10, 12],\n",
       "       [14, 16, 18]])"
      ]
     },
     "execution_count": 48,
     "metadata": {},
     "output_type": "execute_result"
    }
   ],
   "source": [
    "# excluding multiplications the shape must be the same\n",
    "\n",
    "np.array([[1,2,3], [4,5,6]]) + np.array([[7,8,9], [10,11,12]])"
   ]
  },
  {
   "cell_type": "markdown",
   "id": "b048da3c-61e4-4fc9-b9ab-d47e811d4f5c",
   "metadata": {
    "jp-MarkdownHeadingCollapsed": true
   },
   "source": [
    "# Linear Algebra"
   ]
  },
  {
   "cell_type": "code",
   "execution_count": 49,
   "id": "5f7b42f5-0791-4453-8c53-104dd7ef9ecd",
   "metadata": {},
   "outputs": [],
   "source": [
    "# A branch of maths concerning linear equations such as linear maps and their representations in vector spaces through matrices"
   ]
  },
  {
   "cell_type": "code",
   "execution_count": 50,
   "id": "0967a8e5-ab0c-4d6f-81d2-e88a7b0353c1",
   "metadata": {},
   "outputs": [],
   "source": [
    "# To multiply 2 matrices the column of the first one must be equal to the row of the second one\n",
    "\n",
    "# i.e a(r1, c1) and b(r2, c2)\n",
    "# c1 must be equal to r2"
   ]
  },
  {
   "cell_type": "code",
   "execution_count": 51,
   "id": "9232b2c5-fdc9-415a-b059-ceeb772e07e7",
   "metadata": {},
   "outputs": [
    {
     "data": {
      "text/plain": [
       "array([[19, 22],\n",
       "       [43, 50]])"
      ]
     },
     "execution_count": 51,
     "metadata": {},
     "output_type": "execute_result"
    }
   ],
   "source": [
    "a1 = np.array([[1,2], [3,4]])\n",
    "\n",
    "a2 = np.array([[5,6], [7,8]])\n",
    "\n",
    "np.matmul(a1, a2)"
   ]
  },
  {
   "cell_type": "markdown",
   "id": "8f85768e-17c7-4dda-8422-c5c656be3d70",
   "metadata": {
    "jp-MarkdownHeadingCollapsed": true
   },
   "source": [
    "## Determinant"
   ]
  },
  {
   "cell_type": "code",
   "execution_count": 53,
   "id": "cf0be181-0bb4-4ee6-8848-97c2cd708a2e",
   "metadata": {},
   "outputs": [
    {
     "data": {
      "text/plain": [
       "array([[5, 6],\n",
       "       [7, 8]])"
      ]
     },
     "execution_count": 53,
     "metadata": {},
     "output_type": "execute_result"
    }
   ],
   "source": [
    "a2"
   ]
  },
  {
   "cell_type": "code",
   "execution_count": 54,
   "id": "38c98f96-928f-48f7-8966-4b969987be83",
   "metadata": {},
   "outputs": [],
   "source": [
    "# the determinant is (5*8) - (6 * 7)"
   ]
  },
  {
   "cell_type": "code",
   "execution_count": 55,
   "id": "f2af9fcc-a222-478f-bdcf-a4364bff643a",
   "metadata": {},
   "outputs": [
    {
     "data": {
      "text/plain": [
       "-1.999999999999999"
      ]
     },
     "execution_count": 55,
     "metadata": {},
     "output_type": "execute_result"
    }
   ],
   "source": [
    "np.linalg.det(a2)"
   ]
  },
  {
   "cell_type": "markdown",
   "id": "546a11fa-f6f8-42bd-a91d-bbb9461b9af8",
   "metadata": {
    "jp-MarkdownHeadingCollapsed": true
   },
   "source": [
    "# Statistics"
   ]
  },
  {
   "cell_type": "markdown",
   "id": "7feb5571-2042-4397-a068-45ae3bdc97eb",
   "metadata": {
    "jp-MarkdownHeadingCollapsed": true
   },
   "source": [
    "## min value"
   ]
  },
  {
   "cell_type": "code",
   "execution_count": 57,
   "id": "9664ce3d-b96c-42b5-b406-6fee45421d3a",
   "metadata": {},
   "outputs": [
    {
     "data": {
      "text/plain": [
       "array([[ 1,  2,  3],\n",
       "       [44,  5,  6]])"
      ]
     },
     "execution_count": 57,
     "metadata": {},
     "output_type": "execute_result"
    }
   ],
   "source": [
    "b"
   ]
  },
  {
   "cell_type": "code",
   "execution_count": 58,
   "id": "bc235a06-603c-4737-adfb-3e248e899a21",
   "metadata": {},
   "outputs": [
    {
     "data": {
      "text/plain": [
       "1"
      ]
     },
     "execution_count": 58,
     "metadata": {},
     "output_type": "execute_result"
    }
   ],
   "source": [
    "np.min(b)"
   ]
  },
  {
   "cell_type": "code",
   "execution_count": 59,
   "id": "2a07aab3-2cc6-4a13-85d5-bbcd650e6516",
   "metadata": {},
   "outputs": [
    {
     "data": {
      "text/plain": [
       "array([1, 5])"
      ]
     },
     "execution_count": 59,
     "metadata": {},
     "output_type": "execute_result"
    }
   ],
   "source": [
    "np.min(b, axis=1)"
   ]
  },
  {
   "cell_type": "code",
   "execution_count": 60,
   "id": "da2237db-6e6a-4f91-9d30-4419812ba969",
   "metadata": {},
   "outputs": [
    {
     "data": {
      "text/plain": [
       "array([1, 2, 3])"
      ]
     },
     "execution_count": 60,
     "metadata": {},
     "output_type": "execute_result"
    }
   ],
   "source": [
    "np.min(b, axis=0)"
   ]
  },
  {
   "cell_type": "markdown",
   "id": "6980f0e4-91ae-4428-a7ed-ccd1ad48a59e",
   "metadata": {
    "jp-MarkdownHeadingCollapsed": true
   },
   "source": [
    "## min value"
   ]
  },
  {
   "cell_type": "code",
   "execution_count": 61,
   "id": "03ed0e0e-d398-4209-9f74-c384085fd820",
   "metadata": {},
   "outputs": [
    {
     "data": {
      "text/plain": [
       "44"
      ]
     },
     "execution_count": 61,
     "metadata": {},
     "output_type": "execute_result"
    }
   ],
   "source": [
    "np.max(b)"
   ]
  },
  {
   "cell_type": "code",
   "execution_count": 62,
   "id": "82263ea4-9c09-41d3-8d98-28b9b79fd608",
   "metadata": {},
   "outputs": [
    {
     "data": {
      "text/plain": [
       "array([ 3, 44])"
      ]
     },
     "execution_count": 62,
     "metadata": {},
     "output_type": "execute_result"
    }
   ],
   "source": [
    "np.max(b, axis=1)"
   ]
  },
  {
   "cell_type": "code",
   "execution_count": 88,
   "id": "e6c3d364-60d1-4935-a68d-2b872a3e3a54",
   "metadata": {},
   "outputs": [
    {
     "data": {
      "text/plain": [
       "array([44,  5,  6])"
      ]
     },
     "execution_count": 88,
     "metadata": {},
     "output_type": "execute_result"
    }
   ],
   "source": [
    "np.max(b, axis=0)"
   ]
  },
  {
   "cell_type": "markdown",
   "id": "0cc3770d-7fe9-44cc-83a8-1ee2abfeeb20",
   "metadata": {
    "jp-MarkdownHeadingCollapsed": true
   },
   "source": [
    "## mean"
   ]
  },
  {
   "cell_type": "code",
   "execution_count": 89,
   "id": "d907c8fc-32b4-42db-8656-2f0593f232a9",
   "metadata": {},
   "outputs": [
    {
     "data": {
      "text/plain": [
       "10.166666666666666"
      ]
     },
     "execution_count": 89,
     "metadata": {},
     "output_type": "execute_result"
    }
   ],
   "source": [
    "np.mean(b)"
   ]
  },
  {
   "cell_type": "markdown",
   "id": "9dba1e1e-fba8-4b27-8e4f-97c5c58ba841",
   "metadata": {
    "jp-MarkdownHeadingCollapsed": true
   },
   "source": [
    "## Standard Deviation"
   ]
  },
  {
   "cell_type": "code",
   "execution_count": 90,
   "id": "9e47363f-c510-4f96-86b3-14175da67c70",
   "metadata": {},
   "outputs": [
    {
     "data": {
      "text/plain": [
       "15.225161922145707"
      ]
     },
     "execution_count": 90,
     "metadata": {},
     "output_type": "execute_result"
    }
   ],
   "source": [
    "np.std(b)"
   ]
  },
  {
   "cell_type": "markdown",
   "id": "e1a28388-59d9-4b1a-bd0d-94ad3a09c8fa",
   "metadata": {
    "jp-MarkdownHeadingCollapsed": true
   },
   "source": [
    "## Percentile"
   ]
  },
  {
   "cell_type": "code",
   "execution_count": 91,
   "id": "8453aa05-acdb-4a93-a991-716980739537",
   "metadata": {},
   "outputs": [
    {
     "data": {
      "text/plain": [
       "6.0"
      ]
     },
     "execution_count": 91,
     "metadata": {},
     "output_type": "execute_result"
    }
   ],
   "source": [
    "np.percentile(b, 80)"
   ]
  },
  {
   "cell_type": "markdown",
   "id": "0b08f9d1-095a-4681-90d2-9042fe151272",
   "metadata": {
    "jp-MarkdownHeadingCollapsed": true
   },
   "source": [
    "## summing elements"
   ]
  },
  {
   "cell_type": "code",
   "execution_count": 64,
   "id": "6c3b5704-fb56-452d-918e-79520aa06f19",
   "metadata": {},
   "outputs": [
    {
     "data": {
      "text/plain": [
       "61"
      ]
     },
     "execution_count": 64,
     "metadata": {},
     "output_type": "execute_result"
    }
   ],
   "source": [
    "np.sum(b)"
   ]
  },
  {
   "cell_type": "code",
   "execution_count": 66,
   "id": "29826637-8957-475c-bd04-ee77ca2bbefc",
   "metadata": {},
   "outputs": [
    {
     "data": {
      "text/plain": [
       "array([45,  7,  9])"
      ]
     },
     "execution_count": 66,
     "metadata": {},
     "output_type": "execute_result"
    }
   ],
   "source": [
    "np.sum(b, axis=0)"
   ]
  },
  {
   "cell_type": "markdown",
   "id": "16c2d2cb-dd62-4ec2-a5d7-f08f855a5633",
   "metadata": {
    "jp-MarkdownHeadingCollapsed": true
   },
   "source": [
    "# Reorganising Arrays"
   ]
  },
  {
   "cell_type": "markdown",
   "id": "c3c5c9af-334c-48cd-a3ff-d2db19a75707",
   "metadata": {
    "jp-MarkdownHeadingCollapsed": true
   },
   "source": [
    "## Changing the shape"
   ]
  },
  {
   "cell_type": "code",
   "execution_count": 68,
   "id": "335fff5c-62a9-4af7-a4f6-6aecde9f2f95",
   "metadata": {},
   "outputs": [
    {
     "data": {
      "text/plain": [
       "(2, 4)"
      ]
     },
     "execution_count": 68,
     "metadata": {},
     "output_type": "execute_result"
    }
   ],
   "source": [
    "s = np.array([[1,2,3,4], [5,6,7,8]])\n",
    "s.shape"
   ]
  },
  {
   "cell_type": "code",
   "execution_count": 70,
   "id": "2d2fc159-0e4a-4d05-8081-4b3d8fa64f96",
   "metadata": {},
   "outputs": [
    {
     "data": {
      "text/plain": [
       "8"
      ]
     },
     "execution_count": 70,
     "metadata": {},
     "output_type": "execute_result"
    }
   ],
   "source": [
    "# the elements must fit (2*4)\n",
    "s.size"
   ]
  },
  {
   "cell_type": "code",
   "execution_count": 72,
   "id": "e3da7ed3-2058-48ea-a210-59fdf86c3477",
   "metadata": {},
   "outputs": [
    {
     "data": {
      "text/plain": [
       "array([[[1, 2],\n",
       "        [3, 4]],\n",
       "\n",
       "       [[5, 6],\n",
       "        [7, 8]]])"
      ]
     },
     "execution_count": 72,
     "metadata": {},
     "output_type": "execute_result"
    }
   ],
   "source": [
    "# if we use 2,2,2 (2*2*2 = 8) so its a fit\n",
    "s.reshape((2,2,2))"
   ]
  },
  {
   "cell_type": "markdown",
   "id": "b10c4555-65c5-4395-accc-ec449769e018",
   "metadata": {
    "jp-MarkdownHeadingCollapsed": true
   },
   "source": [
    "## Stacking"
   ]
  },
  {
   "cell_type": "markdown",
   "id": "ff48b9dd-4624-4419-886a-18b1a7167dff",
   "metadata": {
    "jp-MarkdownHeadingCollapsed": true
   },
   "source": [
    "### Vertically"
   ]
  },
  {
   "cell_type": "code",
   "execution_count": 73,
   "id": "16e03a26-2022-4317-9cba-9821c38b73a4",
   "metadata": {},
   "outputs": [
    {
     "data": {
      "text/plain": [
       "array([[1, 2, 3, 4],\n",
       "       [5, 6, 7, 8]])"
      ]
     },
     "execution_count": 73,
     "metadata": {},
     "output_type": "execute_result"
    }
   ],
   "source": [
    "w = np.array([1,2,3,4])\n",
    "r = np.array([5,6,7,8])\n",
    "\n",
    "np.vstack([w,r])"
   ]
  },
  {
   "cell_type": "markdown",
   "id": "4de465a1-ea3c-4324-a154-982e49eef677",
   "metadata": {
    "jp-MarkdownHeadingCollapsed": true
   },
   "source": [
    "### horizontally"
   ]
  },
  {
   "cell_type": "code",
   "execution_count": 74,
   "id": "e23c1f98-6dae-4f09-92e6-22009046e0ef",
   "metadata": {},
   "outputs": [
    {
     "data": {
      "text/plain": [
       "array([1, 2, 3, 4, 5, 6, 7, 8])"
      ]
     },
     "execution_count": 74,
     "metadata": {},
     "output_type": "execute_result"
    }
   ],
   "source": [
    "np.hstack([w,r])"
   ]
  },
  {
   "cell_type": "markdown",
   "id": "467e4160-a6b0-44c0-9451-d96a0fbbf03b",
   "metadata": {
    "jp-MarkdownHeadingCollapsed": true
   },
   "source": [
    "## Range"
   ]
  },
  {
   "cell_type": "code",
   "execution_count": 75,
   "id": "416b2397-6feb-4695-ac92-9c3982539ca2",
   "metadata": {},
   "outputs": [
    {
     "data": {
      "text/plain": [
       "array([ 0,  1,  2,  3,  4,  5,  6,  7,  8,  9, 10, 11, 12, 13, 14, 15, 16,\n",
       "       17, 18, 19])"
      ]
     },
     "execution_count": 75,
     "metadata": {},
     "output_type": "execute_result"
    }
   ],
   "source": [
    "np.arange(0,20)"
   ]
  },
  {
   "cell_type": "code",
   "execution_count": 76,
   "id": "7368ee9d-1dc3-44f5-aac6-5ede9de6db27",
   "metadata": {},
   "outputs": [
    {
     "data": {
      "text/plain": [
       "array([ 0,  2,  4,  6,  8, 10, 12, 14, 16, 18])"
      ]
     },
     "execution_count": 76,
     "metadata": {},
     "output_type": "execute_result"
    }
   ],
   "source": [
    "np.arange(0,20,2)"
   ]
  },
  {
   "cell_type": "markdown",
   "id": "888070ac-05b6-4bbc-892f-77ffda3b71f0",
   "metadata": {
    "jp-MarkdownHeadingCollapsed": true
   },
   "source": [
    "## Shuffle array"
   ]
  },
  {
   "cell_type": "code",
   "execution_count": 84,
   "id": "64e24919-9d04-4f47-97a0-b38db6ea13d4",
   "metadata": {},
   "outputs": [
    {
     "data": {
      "text/plain": [
       "array([[[ 1,  2,  3],\n",
       "        [ 4,  5,  6]],\n",
       "\n",
       "       [[ 7,  8,  9],\n",
       "        [10, 11, 12]]])"
      ]
     },
     "execution_count": 84,
     "metadata": {},
     "output_type": "execute_result"
    }
   ],
   "source": [
    "c"
   ]
  },
  {
   "cell_type": "code",
   "execution_count": 87,
   "id": "c88fea51-e91e-4844-904c-bb170ed5deb0",
   "metadata": {},
   "outputs": [
    {
     "data": {
      "text/plain": [
       "array([[[ 7,  8,  9],\n",
       "        [10, 11, 12]],\n",
       "\n",
       "       [[ 1,  2,  3],\n",
       "        [ 4,  5,  6]]])"
      ]
     },
     "execution_count": 87,
     "metadata": {},
     "output_type": "execute_result"
    }
   ],
   "source": [
    "np.random.permutation(c)"
   ]
  },
  {
   "cell_type": "markdown",
   "id": "e7bdccda-605d-4010-a8ea-46c44939fdd8",
   "metadata": {},
   "source": [
    "# Working with Boolean"
   ]
  },
  {
   "cell_type": "code",
   "execution_count": 92,
   "id": "50674d1f-b0d5-458c-9f06-c9079dedd4cc",
   "metadata": {},
   "outputs": [
    {
     "data": {
      "text/plain": [
       "array([[False, False,  True],\n",
       "       [ True,  True,  True]])"
      ]
     },
     "execution_count": 92,
     "metadata": {},
     "output_type": "execute_result"
    }
   ],
   "source": [
    "b > 2"
   ]
  },
  {
   "cell_type": "code",
   "execution_count": 94,
   "id": "ccc2645b-9d11-4218-9eb0-8257df55390f",
   "metadata": {},
   "outputs": [
    {
     "data": {
      "text/plain": [
       "array([ 3, 44,  5,  6])"
      ]
     },
     "execution_count": 94,
     "metadata": {},
     "output_type": "execute_result"
    }
   ],
   "source": [
    "# shows only true\n",
    "b[b>2]"
   ]
  },
  {
   "cell_type": "markdown",
   "id": "1a24de18-8321-4439-9421-2149c4d600a1",
   "metadata": {},
   "source": [
    "## check if atleast one is true"
   ]
  },
  {
   "cell_type": "code",
   "execution_count": 95,
   "id": "968a6395-d791-455c-b7a9-33de676d2ff2",
   "metadata": {},
   "outputs": [
    {
     "data": {
      "text/plain": [
       "True"
      ]
     },
     "execution_count": 95,
     "metadata": {},
     "output_type": "execute_result"
    }
   ],
   "source": [
    "\n",
    "np.any(b>2)"
   ]
  },
  {
   "cell_type": "code",
   "execution_count": 96,
   "id": "39cb51b8-1546-4404-b027-4b12ef498141",
   "metadata": {},
   "outputs": [
    {
     "data": {
      "text/plain": [
       "array([ True,  True,  True])"
      ]
     },
     "execution_count": 96,
     "metadata": {},
     "output_type": "execute_result"
    }
   ],
   "source": [
    "# column by culumn\n",
    "np.any(b>2, axis=0)"
   ]
  },
  {
   "cell_type": "code",
   "execution_count": 97,
   "id": "6efe9071-5d92-4612-b461-2dc3b1d8f511",
   "metadata": {},
   "outputs": [
    {
     "data": {
      "text/plain": [
       "array([ True,  True])"
      ]
     },
     "execution_count": 97,
     "metadata": {},
     "output_type": "execute_result"
    }
   ],
   "source": [
    "# row by row\n",
    "np.any(b>2, axis=1)"
   ]
  },
  {
   "cell_type": "markdown",
   "id": "35a19f30-8fbe-49bd-835d-f867d2c02443",
   "metadata": {},
   "source": [
    "## check if everything is true"
   ]
  },
  {
   "cell_type": "code",
   "execution_count": 98,
   "id": "35611f03-e07d-48bf-8ed7-94d0ab9d5bc0",
   "metadata": {},
   "outputs": [
    {
     "data": {
      "text/plain": [
       "False"
      ]
     },
     "execution_count": 98,
     "metadata": {},
     "output_type": "execute_result"
    }
   ],
   "source": [
    "\n",
    "np.all(b>2)"
   ]
  },
  {
   "cell_type": "code",
   "execution_count": 99,
   "id": "2cc17dc7-403e-4b84-9268-446342cfa87f",
   "metadata": {},
   "outputs": [
    {
     "data": {
      "text/plain": [
       "array([False, False,  True])"
      ]
     },
     "execution_count": 99,
     "metadata": {},
     "output_type": "execute_result"
    }
   ],
   "source": [
    "# column by culumn\n",
    "np.all(b>2, axis=0)"
   ]
  },
  {
   "cell_type": "code",
   "execution_count": null,
   "id": "272fb3da-694e-4e2b-b29d-54ba35b05eb2",
   "metadata": {},
   "outputs": [],
   "source": []
  }
 ],
 "metadata": {
  "kernelspec": {
   "display_name": "Python 3 (ipykernel)",
   "language": "python",
   "name": "python3"
  },
  "language_info": {
   "codemirror_mode": {
    "name": "ipython",
    "version": 3
   },
   "file_extension": ".py",
   "mimetype": "text/x-python",
   "name": "python",
   "nbconvert_exporter": "python",
   "pygments_lexer": "ipython3",
   "version": "3.11.7"
  }
 },
 "nbformat": 4,
 "nbformat_minor": 5
}
