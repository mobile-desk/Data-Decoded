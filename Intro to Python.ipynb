{
 "cells": [
  {
   "cell_type": "markdown",
   "id": "127b17af-dc02-4e6b-a48b-acaf52265b6a",
   "metadata": {},
   "source": [
    "# Basics of Python Syntax"
   ]
  },
  {
   "cell_type": "code",
   "execution_count": 4,
   "id": "d8825de3-9702-4210-963b-3b7312de76aa",
   "metadata": {},
   "outputs": [
    {
     "name": "stdout",
     "output_type": "stream",
     "text": [
      "Hello World\n"
     ]
    }
   ],
   "source": [
    "print('Hello World')"
   ]
  },
  {
   "cell_type": "markdown",
   "id": "ee48bff1-141f-4e71-80e8-c61ad24be0bd",
   "metadata": {},
   "source": [
    "## Comments"
   ]
  },
  {
   "cell_type": "code",
   "execution_count": 5,
   "id": "b56a6dca-cec5-4409-a3ea-ea8d0f805ce7",
   "metadata": {},
   "outputs": [],
   "source": [
    "# This is a comment"
   ]
  },
  {
   "cell_type": "markdown",
   "id": "b2dd07e0-9e75-4fe7-a0c6-18817b1ed80f",
   "metadata": {},
   "source": [
    "## Variables"
   ]
  },
  {
   "cell_type": "code",
   "execution_count": 6,
   "id": "2e818eb6-9f4d-4079-83fe-657cd75c40c6",
   "metadata": {},
   "outputs": [],
   "source": [
    "x = 5"
   ]
  },
  {
   "cell_type": "markdown",
   "id": "15696657-47b7-4fa6-964b-8064a08662a3",
   "metadata": {},
   "source": [
    "## Data Types"
   ]
  },
  {
   "cell_type": "markdown",
   "id": "358b8b23-0fb0-4629-8a2f-744c32ef03f5",
   "metadata": {},
   "source": [
    "### str"
   ]
  },
  {
   "cell_type": "code",
   "execution_count": 7,
   "id": "aa5ad839-fcdd-4554-91ad-84097d057895",
   "metadata": {},
   "outputs": [],
   "source": [
    "x = 'Praise'"
   ]
  },
  {
   "cell_type": "markdown",
   "id": "40ca3c95-529e-4f5c-89fd-6e6e197c7f00",
   "metadata": {},
   "source": [
    "### int"
   ]
  },
  {
   "cell_type": "code",
   "execution_count": 8,
   "id": "77b34e0c-13c5-4873-b358-ca018981e668",
   "metadata": {},
   "outputs": [],
   "source": [
    "x = 4"
   ]
  },
  {
   "cell_type": "markdown",
   "id": "bd6c38cd-1455-4e6d-9b71-740742c6e689",
   "metadata": {},
   "source": [
    "### float"
   ]
  },
  {
   "cell_type": "code",
   "execution_count": 9,
   "id": "cc52b645-a101-4123-91eb-9a64d848fa98",
   "metadata": {},
   "outputs": [],
   "source": [
    "x = 5.6"
   ]
  },
  {
   "cell_type": "markdown",
   "id": "82c0a9ae-d9ba-4924-aa62-7e1adf1b7028",
   "metadata": {},
   "source": [
    "### list"
   ]
  },
  {
   "cell_type": "code",
   "execution_count": 12,
   "id": "d58c5917-807c-4281-9eee-4e84a4ee6ff4",
   "metadata": {},
   "outputs": [],
   "source": [
    "x = [1,2,3,4,5,6,7]"
   ]
  },
  {
   "cell_type": "markdown",
   "id": "524171f8-e414-44e6-b9a3-e43fe96f8ef9",
   "metadata": {
    "jp-MarkdownHeadingCollapsed": true
   },
   "source": [
    "#### Indexing"
   ]
  },
  {
   "cell_type": "code",
   "execution_count": 11,
   "id": "3e144548-a7f2-474a-8cce-f9c95204fd9a",
   "metadata": {},
   "outputs": [
    {
     "data": {
      "text/plain": [
       "1"
      ]
     },
     "execution_count": 11,
     "metadata": {},
     "output_type": "execute_result"
    }
   ],
   "source": [
    "x[0]"
   ]
  },
  {
   "cell_type": "code",
   "execution_count": 14,
   "id": "5c1bd71b-f5c3-4057-84f0-a840457ea74e",
   "metadata": {},
   "outputs": [
    {
     "data": {
      "text/plain": [
       "[1, 3, 5]"
      ]
     },
     "execution_count": 14,
     "metadata": {},
     "output_type": "execute_result"
    }
   ],
   "source": [
    "#slicing\n",
    "x[0:5:2]"
   ]
  },
  {
   "cell_type": "markdown",
   "id": "ade96807-15bc-4998-a8a8-1de0d8c1942d",
   "metadata": {},
   "source": [
    "#### Methods"
   ]
  },
  {
   "cell_type": "code",
   "execution_count": 16,
   "id": "9240d63b-9638-4921-949f-76dec61dbd69",
   "metadata": {},
   "outputs": [
    {
     "data": {
      "text/plain": [
       "[1, 2, 3, 4, 5, 6, 7, 4, 4]"
      ]
     },
     "execution_count": 16,
     "metadata": {},
     "output_type": "execute_result"
    }
   ],
   "source": [
    "# append\n",
    "x.append(4)\n",
    "x"
   ]
  },
  {
   "cell_type": "code",
   "execution_count": 17,
   "id": "f5455014-17e0-4e50-addd-7705cf03939f",
   "metadata": {},
   "outputs": [
    {
     "data": {
      "text/plain": [
       "[1, 99, 2, 3, 4, 5, 6, 7, 4, 4]"
      ]
     },
     "execution_count": 17,
     "metadata": {},
     "output_type": "execute_result"
    }
   ],
   "source": [
    "# insert\n",
    "x.insert(1, 99)\n",
    "x"
   ]
  },
  {
   "cell_type": "code",
   "execution_count": 18,
   "id": "c1857801-3079-4b96-91df-ad8affba5a8d",
   "metadata": {},
   "outputs": [
    {
     "data": {
      "text/plain": [
       "[1, 99, 2, 3, 4, 5, 6, 7, 4, 4, 'a', 'd', 'g']"
      ]
     },
     "execution_count": 18,
     "metadata": {},
     "output_type": "execute_result"
    }
   ],
   "source": [
    "# extend\n",
    "y = ['a','d','g']\n",
    "x.extend(y)\n",
    "x"
   ]
  },
  {
   "cell_type": "code",
   "execution_count": 19,
   "id": "eab74b7b-5018-4cce-9567-cbece9dc3015",
   "metadata": {},
   "outputs": [
    {
     "data": {
      "text/plain": [
       "[1, 2, 3, 4, 5, 6, 7, 4, 4, 'a', 'd', 'g']"
      ]
     },
     "execution_count": 19,
     "metadata": {},
     "output_type": "execute_result"
    }
   ],
   "source": [
    "# remove specified item\n",
    "x.remove(99)\n",
    "x"
   ]
  },
  {
   "cell_type": "code",
   "execution_count": 20,
   "id": "f5ec7caa-f535-41ad-a7b3-f7d8cee83cdf",
   "metadata": {},
   "outputs": [
    {
     "data": {
      "text/plain": [
       "[1, 2, 3, 5, 6, 7, 4, 4, 'a', 'd', 'g']"
      ]
     },
     "execution_count": 20,
     "metadata": {},
     "output_type": "execute_result"
    }
   ],
   "source": [
    "#remove from index\n",
    "x.pop(3)\n",
    "x"
   ]
  },
  {
   "cell_type": "markdown",
   "id": "ab5cd069-5efb-4ccc-9a94-973f2284a8e5",
   "metadata": {},
   "source": [
    "### tuple"
   ]
  },
  {
   "cell_type": "code",
   "execution_count": 21,
   "id": "cab4cc3b-8aa6-4040-a3f6-048fe8cda86f",
   "metadata": {},
   "outputs": [
    {
     "data": {
      "text/plain": [
       "(1, 2, 3)"
      ]
     },
     "execution_count": 21,
     "metadata": {},
     "output_type": "execute_result"
    }
   ],
   "source": [
    "x = (1,2,3)\n",
    "x"
   ]
  },
  {
   "cell_type": "markdown",
   "id": "8dc53115-9ef5-43ec-a4db-78a2c93ec0c9",
   "metadata": {},
   "source": [
    "### dict"
   ]
  },
  {
   "cell_type": "code",
   "execution_count": 23,
   "id": "bd2a941f-89a6-4194-aab7-d2494c3dce05",
   "metadata": {},
   "outputs": [],
   "source": [
    "x = {\n",
    "    'name': 'praise',\n",
    "    'age': 44\n",
    "}"
   ]
  },
  {
   "cell_type": "code",
   "execution_count": 24,
   "id": "a0a2bd7b-c3f1-438f-bb88-1d33146e7057",
   "metadata": {},
   "outputs": [
    {
     "data": {
      "text/plain": [
       "{'name': 'praise', 'age': 44}"
      ]
     },
     "execution_count": 24,
     "metadata": {},
     "output_type": "execute_result"
    }
   ],
   "source": [
    "x"
   ]
  },
  {
   "cell_type": "code",
   "execution_count": 25,
   "id": "70bb5473-10b0-409f-bea6-eac5bd9d5f94",
   "metadata": {},
   "outputs": [
    {
     "data": {
      "text/plain": [
       "'praise'"
      ]
     },
     "execution_count": 25,
     "metadata": {},
     "output_type": "execute_result"
    }
   ],
   "source": [
    "x['name']"
   ]
  },
  {
   "cell_type": "code",
   "execution_count": null,
   "id": "ee465254-3883-4b52-9f98-eaaf58fcc208",
   "metadata": {},
   "outputs": [],
   "source": []
  }
 ],
 "metadata": {
  "kernelspec": {
   "display_name": "Python 3 (ipykernel)",
   "language": "python",
   "name": "python3"
  },
  "language_info": {
   "codemirror_mode": {
    "name": "ipython",
    "version": 3
   },
   "file_extension": ".py",
   "mimetype": "text/x-python",
   "name": "python",
   "nbconvert_exporter": "python",
   "pygments_lexer": "ipython3",
   "version": "3.11.7"
  }
 },
 "nbformat": 4,
 "nbformat_minor": 5
}
